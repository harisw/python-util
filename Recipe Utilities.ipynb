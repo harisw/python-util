{
 "cells": [
  {
   "cell_type": "code",
   "execution_count": 1,
   "metadata": {},
   "outputs": [
    {
     "name": "stdout",
     "output_type": "stream",
     "text": [
      "<class 'pandas.core.frame.DataFrame'>\n",
      "RangeIndex: 100000 entries, 0 to 99999\n",
      "Data columns (total 11 columns):\n",
      "Unnamed: 0             100000 non-null int64\n",
      "id                     100000 non-null int64\n",
      "name                   100000 non-null object\n",
      "description            97969 non-null object\n",
      "ingredients            100000 non-null object\n",
      "ingredients_raw_str    100000 non-null object\n",
      "serving_size           100000 non-null object\n",
      "servings               100000 non-null int64\n",
      "steps                  100000 non-null object\n",
      "tags                   100000 non-null object\n",
      "search_terms           100000 non-null object\n",
      "dtypes: int64(3), object(8)\n",
      "memory usage: 8.4+ MB\n"
     ]
    }
   ],
   "source": [
    "import pandas as pd\n",
    "df = pd.read_csv('../datasets/001recipes_w_search_terms.csv')\n",
    "df.info()"
   ]
  },
  {
   "cell_type": "code",
   "execution_count": 3,
   "metadata": {},
   "outputs": [
    {
     "name": "stdout",
     "output_type": "stream",
     "text": [
      "<class 'pandas.core.frame.DataFrame'>\n",
      "Int64Index: 97969 entries, 0 to 99999\n",
      "Data columns (total 11 columns):\n",
      "Unnamed: 0             97969 non-null int64\n",
      "id                     97969 non-null int64\n",
      "name                   97969 non-null object\n",
      "description            97969 non-null object\n",
      "ingredients            97969 non-null object\n",
      "ingredients_raw_str    97969 non-null object\n",
      "serving_size           97969 non-null object\n",
      "servings               97969 non-null int64\n",
      "steps                  97969 non-null object\n",
      "tags                   97969 non-null object\n",
      "search_terms           97969 non-null object\n",
      "dtypes: int64(3), object(8)\n",
      "memory usage: 9.0+ MB\n"
     ]
    }
   ],
   "source": [
    "df = df.dropna()\n",
    "df.info()"
   ]
  },
  {
   "cell_type": "markdown",
   "metadata": {},
   "source": [
    "## Preprocess"
   ]
  },
  {
   "cell_type": "code",
   "execution_count": 4,
   "metadata": {},
   "outputs": [],
   "source": [
    "def mergeTags(first_tags, sec_tags):\n",
    "    return first_tags.replace(']', '') + sec_tags.replace('[', '')"
   ]
  },
  {
   "cell_type": "code",
   "execution_count": 5,
   "metadata": {},
   "outputs": [],
   "source": [
    "df = df.drop(columns=['Unnamed: 0', 'serving_size'])\n",
    "df['search_terms'] = df.search_terms.apply(lambda val: val.replace('{','[').replace('}',']'))\n",
    "df['tags'] = df.apply(lambda x: mergeTags(x.tags, x.search_terms), axis=1)"
   ]
  },
  {
   "cell_type": "code",
   "execution_count": 6,
   "metadata": {},
   "outputs": [
    {
     "data": {
      "text/html": [
       "<div>\n",
       "<style scoped>\n",
       "    .dataframe tbody tr th:only-of-type {\n",
       "        vertical-align: middle;\n",
       "    }\n",
       "\n",
       "    .dataframe tbody tr th {\n",
       "        vertical-align: top;\n",
       "    }\n",
       "\n",
       "    .dataframe thead th {\n",
       "        text-align: right;\n",
       "    }\n",
       "</style>\n",
       "<table border=\"1\" class=\"dataframe\">\n",
       "  <thead>\n",
       "    <tr style=\"text-align: right;\">\n",
       "      <th></th>\n",
       "      <th>id</th>\n",
       "      <th>name</th>\n",
       "      <th>description</th>\n",
       "      <th>ingredients</th>\n",
       "      <th>servings</th>\n",
       "      <th>steps</th>\n",
       "      <th>tags</th>\n",
       "      <th>ingredient_tags</th>\n",
       "    </tr>\n",
       "  </thead>\n",
       "  <tbody>\n",
       "    <tr>\n",
       "      <th>37557</th>\n",
       "      <td>38</td>\n",
       "      <td>Low-Fat Berry Blue Frozen Dessert</td>\n",
       "      <td>This is yummy and low-fat, it always turns out...</td>\n",
       "      <td>\"4   cups    blueberries, fresh or frozen \",\"1...</td>\n",
       "      <td>4</td>\n",
       "      <td>'Toss 2 cups berries with sugar.', 'Let stand ...</td>\n",
       "      <td>'weeknight', 'time-to-make', 'course', 'prepar...</td>\n",
       "      <td>'blueberries', 'granulated sugar', 'vanilla yo...</td>\n",
       "    </tr>\n",
       "    <tr>\n",
       "      <th>73</th>\n",
       "      <td>39</td>\n",
       "      <td>Biryani</td>\n",
       "      <td>Delhi, India</td>\n",
       "      <td>\"1   tablespoon    saffron\",\"4   teaspoons    ...</td>\n",
       "      <td>6</td>\n",
       "      <td>'Soak saffron in warm milk for 5 minutes and p...</td>\n",
       "      <td>'weeknight', 'time-to-make', 'course', 'main-i...</td>\n",
       "      <td>'saffron', 'milk', 'hot green chili peppers', ...</td>\n",
       "    </tr>\n",
       "    <tr>\n",
       "      <th>40074</th>\n",
       "      <td>41</td>\n",
       "      <td>Carina's Tofu-Vegetable Kebabs</td>\n",
       "      <td>This dish is best prepared a day in advance to...</td>\n",
       "      <td>\"12   ounces    extra firm tofu, water-packed ...</td>\n",
       "      <td>2</td>\n",
       "      <td>'Drain the tofu, carefully squeezing out exces...</td>\n",
       "      <td>'weeknight', 'time-to-make', 'course', 'main-i...</td>\n",
       "      <td>'extra firm tofu', 'eggplant', 'zucchini', 're...</td>\n",
       "    </tr>\n",
       "    <tr>\n",
       "      <th>40010</th>\n",
       "      <td>43</td>\n",
       "      <td>Best Blackbottom Pie</td>\n",
       "      <td>Sweet, chocolatey,  yummy</td>\n",
       "      <td>\"1 1/4  cups    graham cracker crumbs\",\"1/4  c...</td>\n",
       "      <td>8</td>\n",
       "      <td>'Graham Cracker Crust: In small bowl, combine ...</td>\n",
       "      <td>'weeknight', 'time-to-make', 'course', 'cuisin...</td>\n",
       "      <td>'graham cracker crumbs', 'sugar', 'butter', 's...</td>\n",
       "    </tr>\n",
       "    <tr>\n",
       "      <th>40056</th>\n",
       "      <td>56</td>\n",
       "      <td>Buttermilk Pie</td>\n",
       "      <td>This recipe was originally noted by my wife on...</td>\n",
       "      <td>\"1/2  cup    butter or 1/2  cup    margarine, ...</td>\n",
       "      <td>8</td>\n",
       "      <td>'Preheat oven to 400°F.', 'Beat the butter and...</td>\n",
       "      <td>'time-to-make', 'course', 'main-ingredient', '...</td>\n",
       "      <td>'butter', 'sugar', 'flour', 'eggs', 'salt', 'v...</td>\n",
       "    </tr>\n",
       "  </tbody>\n",
       "</table>\n",
       "</div>"
      ],
      "text/plain": [
       "       id                               name  \\\n",
       "37557  38  Low-Fat Berry Blue Frozen Dessert   \n",
       "73     39                            Biryani   \n",
       "40074  41     Carina's Tofu-Vegetable Kebabs   \n",
       "40010  43               Best Blackbottom Pie   \n",
       "40056  56                     Buttermilk Pie   \n",
       "\n",
       "                                             description  \\\n",
       "37557  This is yummy and low-fat, it always turns out...   \n",
       "73                                          Delhi, India   \n",
       "40074  This dish is best prepared a day in advance to...   \n",
       "40010                          Sweet, chocolatey,  yummy   \n",
       "40056  This recipe was originally noted by my wife on...   \n",
       "\n",
       "                                             ingredients  servings  \\\n",
       "37557  \"4   cups    blueberries, fresh or frozen \",\"1...         4   \n",
       "73     \"1   tablespoon    saffron\",\"4   teaspoons    ...         6   \n",
       "40074  \"12   ounces    extra firm tofu, water-packed ...         2   \n",
       "40010  \"1 1/4  cups    graham cracker crumbs\",\"1/4  c...         8   \n",
       "40056  \"1/2  cup    butter or 1/2  cup    margarine, ...         8   \n",
       "\n",
       "                                                   steps  \\\n",
       "37557  'Toss 2 cups berries with sugar.', 'Let stand ...   \n",
       "73     'Soak saffron in warm milk for 5 minutes and p...   \n",
       "40074  'Drain the tofu, carefully squeezing out exces...   \n",
       "40010  'Graham Cracker Crust: In small bowl, combine ...   \n",
       "40056  'Preheat oven to 400°F.', 'Beat the butter and...   \n",
       "\n",
       "                                                    tags  \\\n",
       "37557  'weeknight', 'time-to-make', 'course', 'prepar...   \n",
       "73     'weeknight', 'time-to-make', 'course', 'main-i...   \n",
       "40074  'weeknight', 'time-to-make', 'course', 'main-i...   \n",
       "40010  'weeknight', 'time-to-make', 'course', 'cuisin...   \n",
       "40056  'time-to-make', 'course', 'main-ingredient', '...   \n",
       "\n",
       "                                         ingredient_tags  \n",
       "37557  'blueberries', 'granulated sugar', 'vanilla yo...  \n",
       "73     'saffron', 'milk', 'hot green chili peppers', ...  \n",
       "40074  'extra firm tofu', 'eggplant', 'zucchini', 're...  \n",
       "40010  'graham cracker crumbs', 'sugar', 'butter', 's...  \n",
       "40056  'butter', 'sugar', 'flour', 'eggs', 'salt', 'v...  "
      ]
     },
     "execution_count": 6,
     "metadata": {},
     "output_type": "execute_result"
    }
   ],
   "source": [
    "df['tags'] = df.tags.apply(lambda val: val.replace('[','').replace(']',''))\n",
    "df['ingredient_tags'] = df.ingredients.apply(lambda val: val.replace('[','').replace(']',''))\n",
    "df['ingredients'] = df.ingredients_raw_str.apply(lambda val: val.replace('[','').replace(']',''))\n",
    "df['steps'] = df.steps.apply(lambda val: val.replace('[','').replace(']',''))\n",
    "df = df.drop(columns=['ingredients_raw_str', 'search_terms'])\n",
    "df = df.sort_values('id')\n",
    "df.head()"
   ]
  },
  {
   "cell_type": "code",
   "execution_count": 7,
   "metadata": {},
   "outputs": [],
   "source": [
    "df.to_csv('100k_preprocessed_recipes.csv', index=False)"
   ]
  },
  {
   "cell_type": "markdown",
   "metadata": {},
   "source": [
    "## Image Scraping"
   ]
  },
  {
   "cell_type": "code",
   "execution_count": 22,
   "metadata": {},
   "outputs": [],
   "source": [
    "from bs4 import BeautifulSoup\n",
    "import requests\n",
    "\n",
    "url = 'https://www.google.com/search?tbm=isch&q='"
   ]
  },
  {
   "cell_type": "code",
   "execution_count": null,
   "metadata": {},
   "outputs": [],
   "source": [
    "r = requests.get(url+'Campfire Orange Cake')\n",
    "soup = BeautifulSoup(r.content, 'html.parser')\n",
    "soup.select_one('#islrg > div.islrc > div:nth-child(2) > a.wXeWr.islib.nfEiy > div.bRMDJf.islir > img')"
   ]
  },
  {
   "cell_type": "code",
   "execution_count": 39,
   "metadata": {},
   "outputs": [
    {
     "ename": "AttributeError",
     "evalue": "'NoneType' object has no attribute 'find_element_by_xpath'",
     "output_type": "error",
     "traceback": [
      "\u001b[0;31m--------------------------------------------------------------------------\u001b[0m",
      "\u001b[0;31mAttributeError\u001b[0m                           Traceback (most recent call last)",
      "\u001b[0;32m<ipython-input-39-b6f26d62aaa7>\u001b[0m in \u001b[0;36m<module>\u001b[0;34m()\u001b[0m\n\u001b[1;32m      2\u001b[0m \u001b[0mdriver\u001b[0m \u001b[0;34m=\u001b[0m \u001b[0mdriver\u001b[0m\u001b[0;34m.\u001b[0m\u001b[0mget\u001b[0m\u001b[0;34m(\u001b[0m\u001b[0murl\u001b[0m\u001b[0;34m+\u001b[0m\u001b[0;34m'Campfire Orange Cake'\u001b[0m\u001b[0;34m)\u001b[0m\u001b[0;34m\u001b[0m\u001b[0m\n\u001b[1;32m      3\u001b[0m \u001b[0mtime\u001b[0m\u001b[0;34m.\u001b[0m\u001b[0msleep\u001b[0m\u001b[0;34m(\u001b[0m\u001b[0;36m1\u001b[0m\u001b[0;34m)\u001b[0m\u001b[0;34m\u001b[0m\u001b[0m\n\u001b[0;32m----> 4\u001b[0;31m \u001b[0mimgEl\u001b[0m \u001b[0;34m=\u001b[0m \u001b[0mdriver\u001b[0m\u001b[0;34m.\u001b[0m\u001b[0mfind_element_by_xpath\u001b[0m\u001b[0;34m(\u001b[0m\u001b[0;34m'//*[@id=\"islrg\"]/div[1]/div[1]/a[1]/div[1]/img'\u001b[0m\u001b[0;34m)\u001b[0m\u001b[0;34m\u001b[0m\u001b[0m\n\u001b[0m\u001b[1;32m      5\u001b[0m \u001b[0;32mprint\u001b[0m\u001b[0;34m(\u001b[0m\u001b[0mimgEl\u001b[0m\u001b[0;34m.\u001b[0m\u001b[0mget_attribute\u001b[0m\u001b[0;34m(\u001b[0m\u001b[0;34m'url'\u001b[0m\u001b[0;34m)\u001b[0m\u001b[0;34m)\u001b[0m\u001b[0;34m\u001b[0m\u001b[0m\n",
      "\u001b[0;31mAttributeError\u001b[0m: 'NoneType' object has no attribute 'find_element_by_xpath'"
     ]
    }
   ],
   "source": [
    "from selenium import webdriver\n",
    "import time\n",
    "\n",
    "from selenium.webdriver.common.by import By\n",
    "from selenium.webdriver.support.ui import WebDriverWait\n",
    "from selenium.webdriver.support import expected_conditions as EC\n",
    "\n",
    "DRIVER_PATH = './chromedriver'\n",
    "driver = webdriver.Chrome(executable_path=DRIVER_PATH)\n",
    "driver = driver.get(url+'Campfire Orange Cake')\n",
    "delay = 3 # seconds\n",
    "try:\n",
    "    myElem = WebDriverWait(browser, delay).until(EC.presence_of_element_located((By, 'IdOfMyElement')))\n",
    "    print \"Page is ready!\"\n",
    "    N9Xkfe\n",
    "except TimeoutException:imgEl = driver.find_element_by_xpath('//*[@id=\"islrg\"]/div[1]/div[1]/a[1]/div[1]/img')\n",
    "print(imgEl.get_attribute('url'))"
   ]
  },
  {
   "cell_type": "code",
   "execution_count": 28,
   "metadata": {},
   "outputs": [],
   "source": []
  }
 ],
 "metadata": {
  "kernelspec": {
   "display_name": "Python 2",
   "language": "python",
   "name": "python2"
  },
  "language_info": {
   "codemirror_mode": {
    "name": "ipython",
    "version": 2
   },
   "file_extension": ".py",
   "mimetype": "text/x-python",
   "name": "python",
   "nbconvert_exporter": "python",
   "pygments_lexer": "ipython2",
   "version": "2.7.17"
  }
 },
 "nbformat": 4,
 "nbformat_minor": 2
}

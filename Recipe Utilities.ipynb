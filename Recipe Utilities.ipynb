{
 "cells": [
  {
   "cell_type": "code",
   "execution_count": 5,
   "metadata": {},
   "outputs": [
    {
     "name": "stdout",
     "output_type": "stream",
     "text": [
      "<class 'pandas.core.frame.DataFrame'>\n",
      "RangeIndex: 10000 entries, 0 to 9999\n",
      "Data columns (total 11 columns):\n",
      "Unnamed: 0             10000 non-null int64\n",
      "id                     10000 non-null int64\n",
      "name                   10000 non-null object\n",
      "description            9767 non-null object\n",
      "ingredients            10000 non-null object\n",
      "ingredients_raw_str    10000 non-null object\n",
      "serving_size           10000 non-null object\n",
      "servings               10000 non-null int64\n",
      "steps                  10000 non-null object\n",
      "tags                   10000 non-null object\n",
      "search_terms           10000 non-null object\n",
      "dtypes: int64(3), object(8)\n",
      "memory usage: 859.4+ KB\n"
     ]
    }
   ],
   "source": [
    "import pandas as pd\n",
    "df = pd.read_csv('../datasets/001recipes_w_search_terms.csv')[:10000]\n",
    "df.info()"
   ]
  },
  {
   "cell_type": "markdown",
   "metadata": {},
   "source": [
    "## Preprocess"
   ]
  },
  {
   "cell_type": "code",
   "execution_count": 2,
   "metadata": {},
   "outputs": [],
   "source": [
    "def mergeTags(first_tags, sec_tags):\n",
    "    return first_tags.replace(']', '') + sec_tags.replace('[', '')"
   ]
  },
  {
   "cell_type": "code",
   "execution_count": 6,
   "metadata": {},
   "outputs": [],
   "source": [
    "df = df.drop(columns=['Unnamed: 0', 'serving_size'])\n",
    "df['search_terms'] = df.search_terms.apply(lambda val: val.replace('{','[').replace('}',']'))\n",
    "df['tags'] = df.apply(lambda x: mergeTags(x.tags, x.search_terms), axis=1)"
   ]
  },
  {
   "cell_type": "code",
   "execution_count": 7,
   "metadata": {},
   "outputs": [
    {
     "data": {
      "text/html": [
       "<div>\n",
       "<style scoped>\n",
       "    .dataframe tbody tr th:only-of-type {\n",
       "        vertical-align: middle;\n",
       "    }\n",
       "\n",
       "    .dataframe tbody tr th {\n",
       "        vertical-align: top;\n",
       "    }\n",
       "\n",
       "    .dataframe thead th {\n",
       "        text-align: right;\n",
       "    }\n",
       "</style>\n",
       "<table border=\"1\" class=\"dataframe\">\n",
       "  <thead>\n",
       "    <tr style=\"text-align: right;\">\n",
       "      <th></th>\n",
       "      <th>id</th>\n",
       "      <th>name</th>\n",
       "      <th>description</th>\n",
       "      <th>ingredients</th>\n",
       "      <th>servings</th>\n",
       "      <th>steps</th>\n",
       "      <th>tags</th>\n",
       "      <th>ingredient_tags</th>\n",
       "    </tr>\n",
       "  </thead>\n",
       "  <tbody>\n",
       "    <tr>\n",
       "      <th>73</th>\n",
       "      <td>39</td>\n",
       "      <td>Biryani</td>\n",
       "      <td>Delhi, India</td>\n",
       "      <td>\"1   tablespoon    saffron\",\"4   teaspoons    ...</td>\n",
       "      <td>6</td>\n",
       "      <td>'Soak saffron in warm milk for 5 minutes and p...</td>\n",
       "      <td>'weeknight', 'time-to-make', 'course', 'main-i...</td>\n",
       "      <td>'saffron', 'milk', 'hot green chili peppers', ...</td>\n",
       "    </tr>\n",
       "    <tr>\n",
       "      <th>4452</th>\n",
       "      <td>51</td>\n",
       "      <td>Chai Tea</td>\n",
       "      <td>NaN</td>\n",
       "      <td>\"4   cups    water\",\"1 (1/16  ounce) bag   bla...</td>\n",
       "      <td>4</td>\n",
       "      <td>'Bring water and spices to boil in saucepan.',...</td>\n",
       "      <td>'60-minutes-or-less', 'time-to-make', 'course'...</td>\n",
       "      <td>'water', 'black tea', 'cinnamon stick', 'milk'...</td>\n",
       "    </tr>\n",
       "    <tr>\n",
       "      <th>9028</th>\n",
       "      <td>147</td>\n",
       "      <td>Campfire Orange Cake</td>\n",
       "      <td>When I was a child, my mother made orange cake...</td>\n",
       "      <td>\"1 (14 1/2  ounce) package   gingerbread mix\",...</td>\n",
       "      <td>6</td>\n",
       "      <td>'You could probably do this with any cake mix....</td>\n",
       "      <td>'30-minutes-or-less', 'time-to-make', 'course'...</td>\n",
       "      <td>'gingerbread mix', 'oranges'</td>\n",
       "    </tr>\n",
       "    <tr>\n",
       "      <th>354</th>\n",
       "      <td>169</td>\n",
       "      <td>Ancho Chile Rub</td>\n",
       "      <td>Ancho Chile Rub</td>\n",
       "      <td>\"1 1/2      dried ancho chiles\",\"1/2  tablespo...</td>\n",
       "      <td>1</td>\n",
       "      <td>'Combine ancho chiles, mild chili powder, hot ...</td>\n",
       "      <td>'15-minutes-or-less', 'time-to-make', 'course'...</td>\n",
       "      <td>'dried ancho chiles', 'mild chili powder', 'ho...</td>\n",
       "    </tr>\n",
       "    <tr>\n",
       "      <th>9802</th>\n",
       "      <td>174</td>\n",
       "      <td>Chicken Supreme with Mushrooms</td>\n",
       "      <td>Here is one for the freezer.</td>\n",
       "      <td>\"65   g    butter\",\"2       onions, finely cho...</td>\n",
       "      <td>4</td>\n",
       "      <td>'Melt 15g of the butter in a pan.', 'Add the o...</td>\n",
       "      <td>'weeknight', 'time-to-make', 'course', 'main-i...</td>\n",
       "      <td>'butter', 'onions', 'mushrooms', 'salt %26 pep...</td>\n",
       "    </tr>\n",
       "  </tbody>\n",
       "</table>\n",
       "</div>"
      ],
      "text/plain": [
       "       id                            name  \\\n",
       "73     39                         Biryani   \n",
       "4452   51                        Chai Tea   \n",
       "9028  147            Campfire Orange Cake   \n",
       "354   169                 Ancho Chile Rub   \n",
       "9802  174  Chicken Supreme with Mushrooms   \n",
       "\n",
       "                                            description  \\\n",
       "73                                         Delhi, India   \n",
       "4452                                                NaN   \n",
       "9028  When I was a child, my mother made orange cake...   \n",
       "354                                     Ancho Chile Rub   \n",
       "9802                       Here is one for the freezer.   \n",
       "\n",
       "                                            ingredients  servings  \\\n",
       "73    \"1   tablespoon    saffron\",\"4   teaspoons    ...         6   \n",
       "4452  \"4   cups    water\",\"1 (1/16  ounce) bag   bla...         4   \n",
       "9028  \"1 (14 1/2  ounce) package   gingerbread mix\",...         6   \n",
       "354   \"1 1/2      dried ancho chiles\",\"1/2  tablespo...         1   \n",
       "9802  \"65   g    butter\",\"2       onions, finely cho...         4   \n",
       "\n",
       "                                                  steps  \\\n",
       "73    'Soak saffron in warm milk for 5 minutes and p...   \n",
       "4452  'Bring water and spices to boil in saucepan.',...   \n",
       "9028  'You could probably do this with any cake mix....   \n",
       "354   'Combine ancho chiles, mild chili powder, hot ...   \n",
       "9802  'Melt 15g of the butter in a pan.', 'Add the o...   \n",
       "\n",
       "                                                   tags  \\\n",
       "73    'weeknight', 'time-to-make', 'course', 'main-i...   \n",
       "4452  '60-minutes-or-less', 'time-to-make', 'course'...   \n",
       "9028  '30-minutes-or-less', 'time-to-make', 'course'...   \n",
       "354   '15-minutes-or-less', 'time-to-make', 'course'...   \n",
       "9802  'weeknight', 'time-to-make', 'course', 'main-i...   \n",
       "\n",
       "                                        ingredient_tags  \n",
       "73    'saffron', 'milk', 'hot green chili peppers', ...  \n",
       "4452  'water', 'black tea', 'cinnamon stick', 'milk'...  \n",
       "9028                       'gingerbread mix', 'oranges'  \n",
       "354   'dried ancho chiles', 'mild chili powder', 'ho...  \n",
       "9802  'butter', 'onions', 'mushrooms', 'salt %26 pep...  "
      ]
     },
     "execution_count": 7,
     "metadata": {},
     "output_type": "execute_result"
    }
   ],
   "source": [
    "df['tags'] = df.apply(lambda x: mergeTags(x.tags, x.search_terms), axis=1)\n",
    "df['tags'] = df.tags.apply(lambda val: val.replace('[','').replace(']',''))\n",
    "df['ingredient_tags'] = df.ingredients.apply(lambda val: val.replace('[','').replace(']',''))\n",
    "df['ingredients'] = df.ingredients_raw_str.apply(lambda val: val.replace('[','').replace(']',''))\n",
    "df['steps'] = df.steps.apply(lambda val: val.replace('[','').replace(']',''))\n",
    "df = df.drop(columns=['ingredients_raw_str', 'search_terms'])\n",
    "df = df.sort_values('id')\n",
    "df.head()"
   ]
  },
  {
   "cell_type": "markdown",
   "metadata": {},
   "source": [
    "## Image Scraping"
   ]
  },
  {
   "cell_type": "code",
   "execution_count": 22,
   "metadata": {},
   "outputs": [],
   "source": [
    "from bs4 import BeautifulSoup\n",
    "import requests\n",
    "\n",
    "url = 'https://www.google.com/search?tbm=isch&q='"
   ]
  },
  {
   "cell_type": "code",
   "execution_count": null,
   "metadata": {},
   "outputs": [],
   "source": [
    "r = requests.get(url+'Campfire Orange Cake')\n",
    "soup = BeautifulSoup(r.content, 'html.parser')\n",
    "soup.select_one('#islrg > div.islrc > div:nth-child(2) > a.wXeWr.islib.nfEiy > div.bRMDJf.islir > img')"
   ]
  },
  {
   "cell_type": "code",
   "execution_count": 39,
   "metadata": {},
   "outputs": [
    {
     "ename": "AttributeError",
     "evalue": "'NoneType' object has no attribute 'find_element_by_xpath'",
     "output_type": "error",
     "traceback": [
      "\u001b[0;31m--------------------------------------------------------------------------\u001b[0m",
      "\u001b[0;31mAttributeError\u001b[0m                           Traceback (most recent call last)",
      "\u001b[0;32m<ipython-input-39-b6f26d62aaa7>\u001b[0m in \u001b[0;36m<module>\u001b[0;34m()\u001b[0m\n\u001b[1;32m      2\u001b[0m \u001b[0mdriver\u001b[0m \u001b[0;34m=\u001b[0m \u001b[0mdriver\u001b[0m\u001b[0;34m.\u001b[0m\u001b[0mget\u001b[0m\u001b[0;34m(\u001b[0m\u001b[0murl\u001b[0m\u001b[0;34m+\u001b[0m\u001b[0;34m'Campfire Orange Cake'\u001b[0m\u001b[0;34m)\u001b[0m\u001b[0;34m\u001b[0m\u001b[0m\n\u001b[1;32m      3\u001b[0m \u001b[0mtime\u001b[0m\u001b[0;34m.\u001b[0m\u001b[0msleep\u001b[0m\u001b[0;34m(\u001b[0m\u001b[0;36m1\u001b[0m\u001b[0;34m)\u001b[0m\u001b[0;34m\u001b[0m\u001b[0m\n\u001b[0;32m----> 4\u001b[0;31m \u001b[0mimgEl\u001b[0m \u001b[0;34m=\u001b[0m \u001b[0mdriver\u001b[0m\u001b[0;34m.\u001b[0m\u001b[0mfind_element_by_xpath\u001b[0m\u001b[0;34m(\u001b[0m\u001b[0;34m'//*[@id=\"islrg\"]/div[1]/div[1]/a[1]/div[1]/img'\u001b[0m\u001b[0;34m)\u001b[0m\u001b[0;34m\u001b[0m\u001b[0m\n\u001b[0m\u001b[1;32m      5\u001b[0m \u001b[0;32mprint\u001b[0m\u001b[0;34m(\u001b[0m\u001b[0mimgEl\u001b[0m\u001b[0;34m.\u001b[0m\u001b[0mget_attribute\u001b[0m\u001b[0;34m(\u001b[0m\u001b[0;34m'url'\u001b[0m\u001b[0;34m)\u001b[0m\u001b[0;34m)\u001b[0m\u001b[0;34m\u001b[0m\u001b[0m\n",
      "\u001b[0;31mAttributeError\u001b[0m: 'NoneType' object has no attribute 'find_element_by_xpath'"
     ]
    }
   ],
   "source": [
    "from selenium import webdriver\n",
    "import time\n",
    "\n",
    "from selenium.webdriver.common.by import By\n",
    "from selenium.webdriver.support.ui import WebDriverWait\n",
    "from selenium.webdriver.support import expected_conditions as EC\n",
    "\n",
    "DRIVER_PATH = './chromedriver'\n",
    "driver = webdriver.Chrome(executable_path=DRIVER_PATH)\n",
    "driver = driver.get(url+'Campfire Orange Cake')\n",
    "delay = 3 # seconds\n",
    "try:\n",
    "    myElem = WebDriverWait(browser, delay).until(EC.presence_of_element_located((By, 'IdOfMyElement')))\n",
    "    print \"Page is ready!\"\n",
    "    N9Xkfe\n",
    "except TimeoutException:imgEl = driver.find_element_by_xpath('//*[@id=\"islrg\"]/div[1]/div[1]/a[1]/div[1]/img')\n",
    "print(imgEl.get_attribute('url'))"
   ]
  },
  {
   "cell_type": "code",
   "execution_count": 28,
   "metadata": {},
   "outputs": [],
   "source": []
  }
 ],
 "metadata": {
  "kernelspec": {
   "display_name": "Python 2",
   "language": "python",
   "name": "python2"
  },
  "language_info": {
   "codemirror_mode": {
    "name": "ipython",
    "version": 2
   },
   "file_extension": ".py",
   "mimetype": "text/x-python",
   "name": "python",
   "nbconvert_exporter": "python",
   "pygments_lexer": "ipython2",
   "version": "2.7.17"
  }
 },
 "nbformat": 4,
 "nbformat_minor": 2
}

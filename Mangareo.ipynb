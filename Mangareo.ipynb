{
 "cells": [
  {
   "cell_type": "code",
   "execution_count": 1,
   "metadata": {},
   "outputs": [],
   "source": [
    "import requests as req\n",
    "from bs4 import BeautifulSoup\n",
    "import pandas as pd\n",
    "import csv\n",
    "import psycopg2"
   ]
  },
  {
   "cell_type": "code",
   "execution_count": 2,
   "metadata": {},
   "outputs": [],
   "source": [
    "import os\n",
    "with open(os.path.join('mangareo', 'genres.html')) as fp:\n",
    "    soup = BeautifulSoup(fp, 'html.parser')"
   ]
  },
  {
   "cell_type": "code",
   "execution_count": 3,
   "metadata": {
    "scrolled": true
   },
   "outputs": [
    {
     "data": {
      "text/plain": [
       "[u'Fantasy',\n",
       " u'Adventure',\n",
       " u'Action',\n",
       " u'Demons',\n",
       " u'Shounen',\n",
       " u'Drama',\n",
       " u'Isekai',\n",
       " u'Harem',\n",
       " u'Horror',\n",
       " u'Supernatural',\n",
       " u'Mystery',\n",
       " u'Sci fi',\n",
       " u'Webtoons',\n",
       " u'Romance',\n",
       " u'Magic',\n",
       " u'Seinen',\n",
       " u'Historical',\n",
       " u'Ecchi',\n",
       " u'Comedy',\n",
       " u'Sports',\n",
       " u'Tragedy',\n",
       " u'Yaoi',\n",
       " u'Shoujo',\n",
       " u'Super Power',\n",
       " u'Food',\n",
       " u'Psychological',\n",
       " u'Smut',\n",
       " u'Yuri',\n",
       " u'4-koma',\n",
       " u'Mecha',\n",
       " u'Adult',\n",
       " u'Mature',\n",
       " u'Military',\n",
       " u'Vampire',\n",
       " u'Kids',\n",
       " u'Doujinshi',\n",
       " u'Space',\n",
       " u'Police',\n",
       " u'Music',\n",
       " u'Parody',\n",
       " u'Josei',\n",
       " u'Martial arts',\n",
       " u'Manhwa',\n",
       " u'School life',\n",
       " u'Slice of life',\n",
       " u'Gender bender',\n",
       " u'Shoujo ai',\n",
       " u'Shounen ai',\n",
       " u'Cooking',\n",
       " u'Manhua',\n",
       " u'Medical',\n",
       " u'One shot']"
      ]
     },
     "execution_count": 3,
     "metadata": {},
     "output_type": "execute_result"
    }
   ],
   "source": [
    "def getGenre(row):\n",
    "    return row.find('a').text\n",
    "rows = soup.find_all('div', class_='col-6 col-md-4 py-2')\n",
    "genres = map(getGenre, rows)\n",
    "genres"
   ]
  },
  {
   "cell_type": "code",
   "execution_count": 4,
   "metadata": {},
   "outputs": [],
   "source": [
    "import re\n",
    "def createSlug(inp):\n",
    "    temp = re.sub('[^A-Za-z0-9 ]+', '', str.lower(str(inp)))\n",
    "    return temp.replace(' ', '-')"
   ]
  },
  {
   "cell_type": "code",
   "execution_count": 5,
   "metadata": {
    "scrolled": true
   },
   "outputs": [
    {
     "data": {
      "text/plain": [
       "[[u'Fantasy', 'fantasy'],\n",
       " [u'Adventure', 'adventure'],\n",
       " [u'Action', 'action'],\n",
       " [u'Demons', 'demons'],\n",
       " [u'Shounen', 'shounen'],\n",
       " [u'Drama', 'drama'],\n",
       " [u'Isekai', 'isekai'],\n",
       " [u'Harem', 'harem'],\n",
       " [u'Horror', 'horror'],\n",
       " [u'Supernatural', 'supernatural'],\n",
       " [u'Mystery', 'mystery'],\n",
       " [u'Sci fi', 'sci-fi'],\n",
       " [u'Webtoons', 'webtoons'],\n",
       " [u'Romance', 'romance'],\n",
       " [u'Magic', 'magic'],\n",
       " [u'Seinen', 'seinen'],\n",
       " [u'Historical', 'historical'],\n",
       " [u'Ecchi', 'ecchi'],\n",
       " [u'Comedy', 'comedy'],\n",
       " [u'Sports', 'sports'],\n",
       " [u'Tragedy', 'tragedy'],\n",
       " [u'Yaoi', 'yaoi'],\n",
       " [u'Shoujo', 'shoujo'],\n",
       " [u'Super Power', 'super-power'],\n",
       " [u'Food', 'food'],\n",
       " [u'Psychological', 'psychological'],\n",
       " [u'Smut', 'smut'],\n",
       " [u'Yuri', 'yuri'],\n",
       " [u'4-koma', '4koma'],\n",
       " [u'Mecha', 'mecha'],\n",
       " [u'Adult', 'adult'],\n",
       " [u'Mature', 'mature'],\n",
       " [u'Military', 'military'],\n",
       " [u'Vampire', 'vampire'],\n",
       " [u'Kids', 'kids'],\n",
       " [u'Doujinshi', 'doujinshi'],\n",
       " [u'Space', 'space'],\n",
       " [u'Police', 'police'],\n",
       " [u'Music', 'music'],\n",
       " [u'Parody', 'parody'],\n",
       " [u'Josei', 'josei'],\n",
       " [u'Martial arts', 'martial-arts'],\n",
       " [u'Manhwa', 'manhwa'],\n",
       " [u'School life', 'school-life'],\n",
       " [u'Slice of life', 'slice-of-life'],\n",
       " [u'Gender bender', 'gender-bender'],\n",
       " [u'Shoujo ai', 'shoujo-ai'],\n",
       " [u'Shounen ai', 'shounen-ai'],\n",
       " [u'Cooking', 'cooking'],\n",
       " [u'Manhua', 'manhua'],\n",
       " [u'Medical', 'medical'],\n",
       " [u'One shot', 'one-shot']]"
      ]
     },
     "execution_count": 5,
     "metadata": {},
     "output_type": "execute_result"
    }
   ],
   "source": [
    "def genreWithSlug(inp):\n",
    "    slug = createSlug(inp)\n",
    "    return [inp, slug]\n",
    "genreRows = map(genreWithSlug, genres)\n",
    "genreRows"
   ]
  },
  {
   "cell_type": "code",
   "execution_count": 44,
   "metadata": {},
   "outputs": [],
   "source": [
    "conn = psycopg2.connect(host='localhost', dbname='mangareo', user='postgres', password='1heartless23')\n",
    "#conn = psycopg2.connect(\"dbname=django_porto user=postgres\")\n",
    "cur = conn.cursor()"
   ]
  },
  {
   "cell_type": "code",
   "execution_count": 11,
   "metadata": {},
   "outputs": [
    {
     "name": "stdout",
     "output_type": "stream",
     "text": [
      "INSERT INTO t_genres(name, slug) VALUES ('Fantasy', 'fantasy'); INSERT INTO t_genres(name, slug) VALUES ('Adventure', 'adventure'); INSERT INTO t_genres(name, slug) VALUES ('Action', 'action'); INSERT INTO t_genres(name, slug) VALUES ('Demons', 'demons'); INSERT INTO t_genres(name, slug) VALUES ('Shounen', 'shounen'); INSERT INTO t_genres(name, slug) VALUES ('Drama', 'drama'); INSERT INTO t_genres(name, slug) VALUES ('Isekai', 'isekai'); INSERT INTO t_genres(name, slug) VALUES ('Harem', 'harem'); INSERT INTO t_genres(name, slug) VALUES ('Horror', 'horror'); INSERT INTO t_genres(name, slug) VALUES ('Supernatural', 'supernatural'); INSERT INTO t_genres(name, slug) VALUES ('Mystery', 'mystery'); INSERT INTO t_genres(name, slug) VALUES ('Sci fi', 'sci-fi'); INSERT INTO t_genres(name, slug) VALUES ('Webtoons', 'webtoons'); INSERT INTO t_genres(name, slug) VALUES ('Romance', 'romance'); INSERT INTO t_genres(name, slug) VALUES ('Magic', 'magic'); INSERT INTO t_genres(name, slug) VALUES ('Seinen', 'seinen'); INSERT INTO t_genres(name, slug) VALUES ('Historical', 'historical'); INSERT INTO t_genres(name, slug) VALUES ('Ecchi', 'ecchi'); INSERT INTO t_genres(name, slug) VALUES ('Comedy', 'comedy'); INSERT INTO t_genres(name, slug) VALUES ('Sports', 'sports'); INSERT INTO t_genres(name, slug) VALUES ('Tragedy', 'tragedy'); INSERT INTO t_genres(name, slug) VALUES ('Yaoi', 'yaoi'); INSERT INTO t_genres(name, slug) VALUES ('Shoujo', 'shoujo'); INSERT INTO t_genres(name, slug) VALUES ('Super Power', 'super-power'); INSERT INTO t_genres(name, slug) VALUES ('Food', 'food'); INSERT INTO t_genres(name, slug) VALUES ('Psychological', 'psychological'); INSERT INTO t_genres(name, slug) VALUES ('Smut', 'smut'); INSERT INTO t_genres(name, slug) VALUES ('Yuri', 'yuri'); INSERT INTO t_genres(name, slug) VALUES ('4-koma', '4koma'); INSERT INTO t_genres(name, slug) VALUES ('Mecha', 'mecha'); INSERT INTO t_genres(name, slug) VALUES ('Adult', 'adult'); INSERT INTO t_genres(name, slug) VALUES ('Mature', 'mature'); INSERT INTO t_genres(name, slug) VALUES ('Military', 'military'); INSERT INTO t_genres(name, slug) VALUES ('Vampire', 'vampire'); INSERT INTO t_genres(name, slug) VALUES ('Kids', 'kids'); INSERT INTO t_genres(name, slug) VALUES ('Doujinshi', 'doujinshi'); INSERT INTO t_genres(name, slug) VALUES ('Space', 'space'); INSERT INTO t_genres(name, slug) VALUES ('Police', 'police'); INSERT INTO t_genres(name, slug) VALUES ('Music', 'music'); INSERT INTO t_genres(name, slug) VALUES ('Parody', 'parody'); INSERT INTO t_genres(name, slug) VALUES ('Josei', 'josei'); INSERT INTO t_genres(name, slug) VALUES ('Martial arts', 'martial-arts'); INSERT INTO t_genres(name, slug) VALUES ('Manhwa', 'manhwa'); INSERT INTO t_genres(name, slug) VALUES ('School life', 'school-life'); INSERT INTO t_genres(name, slug) VALUES ('Slice of life', 'slice-of-life'); INSERT INTO t_genres(name, slug) VALUES ('Gender bender', 'gender-bender'); INSERT INTO t_genres(name, slug) VALUES ('Shoujo ai', 'shoujo-ai'); INSERT INTO t_genres(name, slug) VALUES ('Shounen ai', 'shounen-ai'); INSERT INTO t_genres(name, slug) VALUES ('Cooking', 'cooking'); INSERT INTO t_genres(name, slug) VALUES ('Manhua', 'manhua'); INSERT INTO t_genres(name, slug) VALUES ('Medical', 'medical'); INSERT INTO t_genres(name, slug) VALUES ('One shot', 'one-shot'); \n"
     ]
    }
   ],
   "source": [
    "sqls = \"\"\n",
    "for row in genreRows:\n",
    "    sqls += \"INSERT INTO t_genres(name, slug) VALUES ('\"+row[0]+\"', '\"+row[1]+\"'); \"\n",
    "#     print(row)\n",
    "#     cur.execute(\n",
    "#     \"INSERT INTO t_genres(name, slug) VALUES (%s, %s)\",row)\n",
    "#conn.commit()\n",
    "print(sqls)"
   ]
  },
  {
   "cell_type": "code",
   "execution_count": 12,
   "metadata": {},
   "outputs": [
    {
     "data": {
      "text/plain": [
       "{u'4-koma': {'id': '29'},\n",
       " u'Action': {'id': '3'},\n",
       " u'Adult': {'id': '31'},\n",
       " u'Adventure': {'id': '2'},\n",
       " u'Comedy': {'id': '19'},\n",
       " u'Cooking': {'id': '49'},\n",
       " u'Demons': {'id': '4'},\n",
       " u'Doujinshi': {'id': '36'},\n",
       " u'Drama': {'id': '6'},\n",
       " u'Ecchi': {'id': '18'},\n",
       " u'Fantasy': {'id': '1'},\n",
       " u'Food': {'id': '25'},\n",
       " u'Gender bender': {'id': '46'},\n",
       " u'Harem': {'id': '8'},\n",
       " u'Historical': {'id': '17'},\n",
       " u'Horror': {'id': '9'},\n",
       " u'Isekai': {'id': '7'},\n",
       " u'Josei': {'id': '41'},\n",
       " u'Kids': {'id': '35'},\n",
       " u'Magic': {'id': '15'},\n",
       " u'Manhua': {'id': '50'},\n",
       " u'Manhwa': {'id': '43'},\n",
       " u'Martial arts': {'id': '42'},\n",
       " u'Mature': {'id': '32'},\n",
       " u'Mecha': {'id': '30'},\n",
       " u'Medical': {'id': '51'},\n",
       " u'Military': {'id': '33'},\n",
       " u'Music': {'id': '39'},\n",
       " u'Mystery': {'id': '11'},\n",
       " u'One shot': {'id': '52'},\n",
       " u'Parody': {'id': '40'},\n",
       " u'Police': {'id': '38'},\n",
       " u'Psychological': {'id': '26'},\n",
       " u'Romance': {'id': '14'},\n",
       " u'School life': {'id': '44'},\n",
       " u'Sci fi': {'id': '12'},\n",
       " u'Seinen': {'id': '16'},\n",
       " u'Shoujo': {'id': '23'},\n",
       " u'Shoujo ai': {'id': '47'},\n",
       " u'Shounen': {'id': '5'},\n",
       " u'Shounen ai': {'id': '48'},\n",
       " u'Slice of life': {'id': '45'},\n",
       " u'Smut': {'id': '27'},\n",
       " u'Space': {'id': '37'},\n",
       " u'Sports': {'id': '20'},\n",
       " u'Super Power': {'id': '24'},\n",
       " u'Supernatural': {'id': '10'},\n",
       " u'Tragedy': {'id': '21'},\n",
       " u'Vampire': {'id': '34'},\n",
       " u'Webtoons': {'id': '13'},\n",
       " u'Yaoi': {'id': '22'},\n",
       " u'Yuri': {'id': '28'}}"
      ]
     },
     "execution_count": 12,
     "metadata": {},
     "output_type": "execute_result"
    }
   ],
   "source": [
    "genreDict = {}\n",
    "for index, r in enumerate(genreRows):\n",
    "    genreDict[r[0]] = {'id': str(index+1)}\n",
    "genreDict"
   ]
  },
  {
   "cell_type": "markdown",
   "metadata": {},
   "source": [
    "# Manga scraping"
   ]
  },
  {
   "cell_type": "code",
   "execution_count": 6,
   "metadata": {},
   "outputs": [],
   "source": [
    "import requests\n",
    "page = requests.get('https://mangajar.com/manga')\n",
    "soup = BeautifulSoup(page.text, 'html.parser')"
   ]
  },
  {
   "cell_type": "code",
   "execution_count": 14,
   "metadata": {},
   "outputs": [
    {
     "data": {
      "text/plain": [
       "[<article class=\"flex-item card mx-1 mx-md-2 mb-3 shadow-sm rounded\">\\n<a class=\"px-1 py-1\" href=\"/manga/parallel-paradise\" title=\"Parallel Paradise\">\\n<img alt=\"Parallel Paradise\" class=\"img-fluid card-img-top\" height=\"420\" src=\"https://static.mangajar.com/posters/467/BDutOqN1VRoHvjFodb3BjxUJOzXSm7tiIM0Od9h5_mini.jpg\" title=\"Parallel Paradise\" width=\"280\"/>\\n</a>\\n<a href=\"/manga/parallel-paradise\" title=\"Parallel Paradise\"><h2 class=\"entry-title pl-1 h3\">Parallel Paradise</h2></a>\\n<div class=\"post-description\">\\n<a class=\"card-about\" href=\"/manga/parallel-paradise\"><p class=\"card-title js-card-title\">Parallel Paradise</p>\\n<ul class=\"card-genres m-0 p-0\">\\n<li class=\"card-genres-item\">Fantasy</li>\\n<li class=\"card-genres-item\">Adventure</li>\\n</ul>\\n<ul class=\"card-numbers m-0 p-0\">\\n<li class=\"card-numbers-item\">\\n<span>Chapter: 170</span>\\n</li>\\n<li class=\"card-numbers-item\">\\n<span class=\"js-card-year\">Year: 2017</span>\\n</li>\\n<li class=\"card-numbers-item\"><span class=\"fa fa-star rating-star\"> 3.96</span></li>\\n</ul>\\n<p class=\"card-text\">Yuta Tada was living another ordinary day at school, when he sees in the window a mysterious creature entering the school, but after a secon...</p>\\n</a>\\n</div>\\n<ul class=\"post-footer list-group list-group-flush\">\\n<li class=\"list-group-item px-1 py-1 small text-center\">\\n<span class=\"far fa-clock\"></span>\\nChapter\\n<a href=\"/manga/parallel-paradise/chapter/188\" style=\"color: #ff4800;\" title=\"Beast King Inexhaustible\">\\n188\\n</a>\\n<span>17 hours ago</span>\\n</li>\\n</ul>\\n</article>,\n",
       " <article class=\"flex-item card mx-1 mx-md-2 mb-3 shadow-sm rounded\">\\n<a class=\"px-1 py-1\" href=\"/manga/kanojo-okarishimasu\" title=\"Kanojo, Okarishimasu\">\\n<img alt=\"Kanojo, Okarishimasu\" class=\"img-fluid card-img-top lazy lazy-preload\" data-src=\"https://static.mangajar.com/posters/617/7KWchaAd7JteQlbrhhKPmpk1zZ17Mj7E7JYdePww_mini.jpg\" height=\"420\" src=\"data:image/svg+xml;base64,PHN2ZyB4bWxucz0naHR0cDovL3d3dy53My5vcmcvMjAwMC9zdmcnIHZpZXdCb3g9JzAgMCAyODAgNDIwJz48L3N2Zz4=\" title=\"Kanojo, Okarishimasu\" width=\"280\"/>\\n</a>\\n<a href=\"/manga/kanojo-okarishimasu\" title=\"Kanojo, Okarishimasu\"><h2 class=\"entry-title pl-1 h3\">Kanojo, Okarishimasu</h2></a>\\n<div class=\"post-description\">\\n<a class=\"card-about\" href=\"/manga/kanojo-okarishimasu\"><p class=\"card-title js-card-title\">Kanojo, Okarishimasu</p>\\n<ul class=\"card-genres m-0 p-0\">\\n<li class=\"card-genres-item\">Shounen</li>\\n<li class=\"card-genres-item\">Romance</li>\\n</ul>\\n<ul class=\"card-numbers m-0 p-0\">\\n<li class=\"card-numbers-item\">\\n<span>Chapter: 243</span>\\n</li>\\n<li class=\"card-numbers-item\">\\n<span class=\"js-card-year\">Year: 2017</span>\\n</li>\\n<li class=\"card-numbers-item\"><span class=\"fa fa-star rating-star\"> 4.13</span></li>\\n</ul>\\n<p class=\"card-text\">The 0-year-old student of college Kinoshita Kezuya feels awfully after his girlfriend deceived him with other guy. He was tired to be only-l...</p>\\n</a>\\n</div>\\n<ul class=\"post-footer list-group list-group-flush\">\\n<li class=\"list-group-item px-1 py-1 small text-center\">\\n<span class=\"far fa-clock\"></span>\\nChapter\\n<a href=\"/manga/kanojo-okarishimasu/chapter/237\" style=\"color: #ff4800;\" title=\"\">\\n237\\n</a>\\n<span>4 days ago</span>\\n</li>\\n</ul>\\n</article>,\n",
       " <article class=\"flex-item card mx-1 mx-md-2 mb-3 shadow-sm rounded\">\\n<a class=\"px-1 py-1\" href=\"/manga/spy-x-family-abs3ew4\" title=\"Spy X Family\">\\n<img alt=\"Spy X Family\" class=\"img-fluid card-img-top lazy lazy-preload\" data-src=\"https://static.mangajar.com/posters/4529/NhKZN9lmEkCFDSpNwZVyP5x8jKrthgXRRmVff7Yz_mini.jpg\" height=\"419\" src=\"data:image/svg+xml;base64,PHN2ZyB4bWxucz0naHR0cDovL3d3dy53My5vcmcvMjAwMC9zdmcnIHZpZXdCb3g9JzAgMCAyODAgNDE5Jz48L3N2Zz4=\" title=\"Spy X Family\" width=\"280\"/>\\n</a>\\n<a href=\"/manga/spy-x-family-abs3ew4\" title=\"Spy X Family\"><h2 class=\"entry-title pl-1 h3\">Spy X Family</h2></a>\\n<div class=\"post-description\">\\n<a class=\"card-about\" href=\"/manga/spy-x-family-abs3ew4\"><p class=\"card-title js-card-title\">Spy X Family</p>\\n<ul class=\"card-genres m-0 p-0\">\\n<li class=\"card-genres-item\">Action</li>\\n<li class=\"card-genres-item\">Adventure</li>\\n</ul>\\n<ul class=\"card-numbers m-0 p-0\">\\n<li class=\"card-numbers-item\">\\n<span>Chapter: 74</span>\\n</li>\\n<li class=\"card-numbers-item\"><span class=\"fa fa-star rating-star\"> 4.57</span></li>\\n</ul>\\n<p class=\"card-text\">He was the main spy who is constantly on any secret missions and carries out various assignments. He motivates himself with dreams of a bett...</p>\\n</a>\\n</div>\\n<ul class=\"post-footer list-group list-group-flush\">\\n<li class=\"list-group-item px-1 py-1 small text-center\">\\n<span class=\"far fa-clock\"></span>\\nChapter\\n<a href=\"/manga/spy-x-family-abs3ew4/chapter/62.5\" style=\"color: #ff4800;\" title=\"\">\\n62.5\\n</a>\\n<span>5 days ago</span>\\n</li>\\n</ul>\\n</article>,\n",
       " <article class=\"flex-item card mx-1 mx-md-2 mb-3 shadow-sm rounded\">\\n<a class=\"px-1 py-1\" href=\"/manga/kengan-omega\" title=\"Kengan Omega\">\\n<img alt=\"Kengan Omega\" class=\"img-fluid card-img-top lazy lazy-preload\" data-src=\"https://static.mangajar.com/posters/206/3KIZbdHXm5AhZjsEgtW0vlu8LuELRbwVowilyYNy_mini.jpg\" height=\"419\" src=\"data:image/svg+xml;base64,PHN2ZyB4bWxucz0naHR0cDovL3d3dy53My5vcmcvMjAwMC9zdmcnIHZpZXdCb3g9JzAgMCAyODAgNDE5Jz48L3N2Zz4=\" title=\"Kengan Omega\" width=\"280\"/>\\n</a>\\n<a href=\"/manga/kengan-omega\" title=\"Kengan Omega\"><h2 class=\"entry-title pl-1 h3\">Kengan Omega</h2></a>\\n<div class=\"post-description\">\\n<a class=\"card-about\" href=\"/manga/kengan-omega\"><p class=\"card-title js-card-title\">Kengan Omega</p>\\n<ul class=\"card-genres m-0 p-0\">\\n<li class=\"card-genres-item\">Action</li>\\n<li class=\"card-genres-item\">Martial arts</li>\\n</ul>\\n<ul class=\"card-numbers m-0 p-0\">\\n<li class=\"card-numbers-item\">\\n<span>Chapter: 165</span>\\n</li>\\n<li class=\"card-numbers-item\"><span class=\"fa fa-star rating-star\"> 4.08</span></li>\\n</ul>\\n<p class=\"card-text\">The story will tell about the continuation of the Kengan Asura tournament in 2 years.</p>\\n</a>\\n</div>\\n<ul class=\"post-footer list-group list-group-flush\">\\n<li class=\"list-group-item px-1 py-1 small text-center\">\\n<span class=\"far fa-clock\"></span>\\nChapter\\n<a href=\"/manga/kengan-omega/chapter/161\" style=\"color: #ff4800;\" title=\"\">\\n161\\n</a>\\n<span>1 day ago</span>\\n</li>\\n</ul>\\n</article>,\n",
       " <article class=\"flex-item card mx-1 mx-md-2 mb-3 shadow-sm rounded\">\\n<a class=\"px-1 py-1\" href=\"/manga/fairy-tail-100-years-quest\" title=\"Fairy Tail: 100 Years Quest\">\\n<img alt=\"Fairy Tail: 100 Years Quest\" class=\"img-fluid card-img-top lazy lazy-preload\" data-src=\"https://static.mangajar.com/posters/74/5eieOc5bSe9TVF4Ex3Xfp9rW1wjGgf8bNx4jJc3b_mini.png\" height=\"420\" src=\"data:image/svg+xml;base64,PHN2ZyB4bWxucz0naHR0cDovL3d3dy53My5vcmcvMjAwMC9zdmcnIHZpZXdCb3g9JzAgMCAyODAgNDIwJz48L3N2Zz4=\" title=\"Fairy Tail: 100 Years Quest\" width=\"280\"/>\\n</a>\\n<a href=\"/manga/fairy-tail-100-years-quest\" title=\"Fairy Tail: 100 Years Quest\"><h2 class=\"entry-title pl-1 h3\">Fairy Tail: 100 Years Quest</h2></a>\\n<div class=\"post-description\">\\n<a class=\"card-about\" href=\"/manga/fairy-tail-100-years-quest\"><p class=\"card-title js-card-title\">Fairy Tail: 100 Years Quest</p>\\n<ul class=\"card-genres m-0 p-0\">\\n<li class=\"card-genres-item\">Fantasy</li>\\n<li class=\"card-genres-item\">Adventure</li>\\n</ul>\\n<ul class=\"card-numbers m-0 p-0\">\\n<li class=\"card-numbers-item\">\\n<span>Chapter: 110</span>\\n</li>\\n<li class=\"card-numbers-item\">\\n<span class=\"js-card-year\">Year: 2018</span>\\n</li>\\n<li class=\"card-numbers-item\"><span class=\"fa fa-star rating-star\"> 4.39</span></li>\\n</ul>\\n<p class=\"card-text\">Fairy Tail became much more energetic and stronger once it managed to deal with the threat of Acnologia and Zeref. The 100 year quest that N...</p>\\n</a>\\n</div>\\n<ul class=\"post-footer list-group list-group-flush\">\\n<li class=\"list-group-item px-1 py-1 small text-center\">\\n<span class=\"far fa-clock\"></span>\\nChapter\\n<a href=\"/manga/fairy-tail-100-years-quest/chapter/109\" style=\"color: #ff4800;\" title=\"The Soul Of A King\">\\n109\\n</a>\\n<span>3 days ago</span>\\n</li>\\n</ul>\\n</article>,\n",
       " <article class=\"flex-item card mx-1 mx-md-2 mb-3 shadow-sm rounded\">\\n<a class=\"px-1 py-1\" href=\"/manga/please-don-t-bully-me-nagatoro\" title=\"Please Don't Bully Me, Nagatoro\">\\n<img alt=\"Please Don't Bully Me, Nagatoro\" class=\"img-fluid card-img-top lazy lazy-preload\" data-src=\"https://static.mangajar.com/posters/31/oj1tj17TXklA4VDhuYI9tkLEOfFy4ugoV93air3n_mini.png\" height=\"420\" src=\"data:image/svg+xml;base64,PHN2ZyB4bWxucz0naHR0cDovL3d3dy53My5vcmcvMjAwMC9zdmcnIHZpZXdCb3g9JzAgMCAyODAgNDIwJz48L3N2Zz4=\" title=\"Please Don't Bully Me, Nagatoro\" width=\"280\"/>\\n</a>\\n<a href=\"/manga/please-don-t-bully-me-nagatoro\" title=\"Please Don't Bully Me, Nagatoro\"><h2 class=\"entry-title pl-1 h3\">Please Don't Bully Me, Nagator...</h2></a>\\n<div class=\"post-description\">\\n<a class=\"card-about\" href=\"/manga/please-don-t-bully-me-nagatoro\"><p class=\"card-title js-card-title\">Please Don't Bully Me, Nagatoro</p>\\n<ul class=\"card-genres m-0 p-0\">\\n<li class=\"card-genres-item\">Comedy</li>\\n<li class=\"card-genres-item\">Ecchi</li>\\n</ul>\\n<ul class=\"card-numbers m-0 p-0\">\\n<li class=\"card-numbers-item\">\\n<span>Chapter: 131</span>\\n</li>\\n<li class=\"card-numbers-item\">\\n<span class=\"js-card-year\">Year: 2017</span>\\n</li>\\n<li class=\"card-numbers-item\"><span class=\"fa fa-star rating-star\"> 4.3</span></li>\\n</ul>\\n<p class=\"card-text\">Nagatoro is a freshman in high school and enjoys making fun of her senpai. However, he continues to endure all the bullying, even after the...</p>\\n</a>\\n</div>\\n<ul class=\"post-footer list-group list-group-flush\">\\n<li class=\"list-group-item px-1 py-1 small text-center\">\\n<span class=\"far fa-clock\"></span>\\nChapter\\n<a href=\"/manga/please-don-t-bully-me-nagatoro/chapter/106\" style=\"color: #ff4800;\" title=\"Come On, Senpai! Are You Ready!?\">\\n106\\n</a>\\n<span>4 days ago</span>\\n</li>\\n</ul>\\n</article>,\n",
       " <article class=\"flex-item card mx-1 mx-md-2 mb-3 shadow-sm rounded\">\\n<a class=\"px-1 py-1\" href=\"/manga/sunset-of-passion\" title=\"Sunset of Passion\">\\n<img alt=\"Sunset of Passion\" class=\"img-fluid card-img-top lazy lazy-preload\" data-src=\"https://static.mangajar.com/posters/577/XlpAD3lgNP5VyrAvX3jbjl8Xp7c6x14z8jmqRTFn_mini.jpg\" height=\"420\" src=\"data:image/svg+xml;base64,PHN2ZyB4bWxucz0naHR0cDovL3d3dy53My5vcmcvMjAwMC9zdmcnIHZpZXdCb3g9JzAgMCAyODAgNDIwJz48L3N2Zz4=\" title=\"Sunset of Passion\" width=\"280\"/>\\n</a>\\n<a href=\"/manga/sunset-of-passion\" title=\"Sunset of Passion\"><h2 class=\"entry-title pl-1 h3\">Sunset of Passion</h2></a>\\n<div class=\"post-description\">\\n<a class=\"card-about\" href=\"/manga/sunset-of-passion\"><p class=\"card-title js-card-title\">Sunset of Passion</p>\\n<ul class=\"card-genres m-0 p-0\">\\n<li class=\"card-genres-item\">Adult</li>\\n<li class=\"card-genres-item\">Ecchi</li>\\n</ul>\\n<ul class=\"card-numbers m-0 p-0\">\\n<li class=\"card-numbers-item\">\\n<span>Chapter: 91</span>\\n</li>\\n<li class=\"card-numbers-item\">\\n<span class=\"js-card-year\">Year: 2014</span>\\n</li>\\n<li class=\"card-numbers-item\"><span class=\"fa fa-star rating-star\"> 3.7</span></li>\\n</ul>\\n<p class=\"card-text\">What will occur if together with Fudzhivar, future the manga, moves Yuki, the former teacher at high school and the first love? And Yuki mar...</p>\\n</a>\\n</div>\\n<ul class=\"post-footer list-group list-group-flush\">\\n<li class=\"list-group-item px-1 py-1 small text-center\">\\n<span class=\"far fa-clock\"></span>\\nChapter\\n<a href=\"/manga/sunset-of-passion/chapter/91\" style=\"color: #ff4800;\" title=\"This Is A Coven, Right?\">\\n91\\n</a>\\n<span>5 days ago</span>\\n</li>\\n</ul>\\n</article>,\n",
       " <article class=\"flex-item card mx-1 mx-md-2 mb-3 shadow-sm rounded\">\\n<a class=\"px-1 py-1\" href=\"/manga/mieruko-chan\" title=\"Mieruko-Chan\">\\n<img alt=\"Mieruko-Chan\" class=\"img-fluid card-img-top lazy lazy-preload\" data-src=\"https://static.mangajar.com/posters/4073/M4kOwGhvlDmNbqZwGFbcFVcdrvaOgCTruVnVmXSU_mini.jpg\" height=\"397\" src=\"data:image/svg+xml;base64,PHN2ZyB4bWxucz0naHR0cDovL3d3dy53My5vcmcvMjAwMC9zdmcnIHZpZXdCb3g9JzAgMCAyODAgMzk3Jz48L3N2Zz4=\" title=\"Mieruko-Chan\" width=\"280\"/>\\n</a>\\n<a href=\"/manga/mieruko-chan\" title=\"Mieruko-Chan\"><h2 class=\"entry-title pl-1 h3\">Mieruko-Chan</h2></a>\\n<div class=\"post-description\">\\n<a class=\"card-about\" href=\"/manga/mieruko-chan\"><p class=\"card-title js-card-title\">Mieruko-Chan</p>\\n<ul class=\"card-genres m-0 p-0\">\\n<li class=\"card-genres-item\">Comedy</li>\\n<li class=\"card-genres-item\">Horror</li>\\n</ul>\\n<ul class=\"card-numbers m-0 p-0\">\\n<li class=\"card-numbers-item\">\\n<span>Chapter: 48</span>\\n</li>\\n<li class=\"card-numbers-item\"><span class=\"fa fa-star rating-star\"> 4.39</span></li>\\n</ul>\\n<p class=\"card-text\">The girl discovers in herself an extremely unusual ability: she can see terrifying grotesque monsters. At the same time, no one except her s...</p>\\n</a>\\n</div>\\n<ul class=\"post-footer list-group list-group-flush\">\\n<li class=\"list-group-item px-1 py-1 small text-center\">\\n<span class=\"far fa-clock\"></span>\\nChapter\\n<a href=\"/manga/mieruko-chan/chapter/43\" style=\"color: #ff4800;\" title=\"\">\\n43\\n</a>\\n<span>5 days ago</span>\\n</li>\\n</ul>\\n</article>,\n",
       " <article class=\"flex-item card mx-1 mx-md-2 mb-3 shadow-sm rounded\">\\n<a class=\"px-1 py-1\" href=\"/manga/that-time-i-got-reincarnated-as-a-slime-abs3jQb\" title=\"That Time I Got Reincarnated as a Slime\">\\n<img alt=\"That Time I Got Reincarnated as a Slime\" class=\"img-fluid card-img-top lazy lazy-preload\" data-src=\"https://static.mangajar.com/posters/23/GagMsYKYNFku3tc0rfQlAQ5XXHHjoBY92qiH76bG_mini.png\" height=\"420\" src=\"data:image/svg+xml;base64,PHN2ZyB4bWxucz0naHR0cDovL3d3dy53My5vcmcvMjAwMC9zdmcnIHZpZXdCb3g9JzAgMCAyODAgNDIwJz48L3N2Zz4=\" title=\"That Time I Got Reincarnated as a Slime\" width=\"280\"/>\\n</a>\\n<a href=\"/manga/that-time-i-got-reincarnated-as-a-slime-abs3jQb\" title=\"That Time I Got Reincarnated as a Slime\"><h2 class=\"entry-title pl-1 h3\">That Time I Got Reincarnated a...</h2></a>\\n<div class=\"post-description\">\\n<a class=\"card-about\" href=\"/manga/that-time-i-got-reincarnated-as-a-slime-abs3jQb\"><p class=\"card-title js-card-title\">That Time I Got Reincarnated as a Slime</p>\\n<ul class=\"card-genres m-0 p-0\">\\n<li class=\"card-genres-item\">Fantasy</li>\\n<li class=\"card-genres-item\">Action</li>\\n</ul>\\n<ul class=\"card-numbers m-0 p-0\">\\n<li class=\"card-numbers-item\">\\n<span>Chapter: 106</span>\\n</li>\\n<li class=\"card-numbers-item\">\\n<span class=\"js-card-year\">Year: 2015</span>\\n</li>\\n<li class=\"card-numbers-item\"><span class=\"fa fa-star rating-star\"> 4.25</span></li>\\n</ul>\\n<p class=\"card-text\">Satoru Mikami suddenly found himself dead after being stabbed. It would seem like the usual end for his meager life at 37, but suddenly he r...</p>\\n</a>\\n</div>\\n<ul class=\"post-footer list-group list-group-flush\">\\n<li class=\"list-group-item px-1 py-1 small text-center\">\\n<span class=\"far fa-clock\"></span>\\nChapter\\n<a href=\"/manga/that-time-i-got-reincarnated-as-a-slime-abs3jQb/chapter/96\" style=\"color: #ff4800;\" title=\"\">\\n96\\n</a>\\n<span>5 days ago</span>\\n</li>\\n</ul>\\n</article>,\n",
       " <article class=\"flex-item card mx-1 mx-md-2 mb-3 shadow-sm rounded\">\\n<a class=\"px-1 py-1\" href=\"/manga/please-go-home-akutsu-san\" title=\"Please Go Home, Akutsu-San!\">\\n<img alt=\"Please Go Home, Akutsu-San!\" class=\"img-fluid card-img-top lazy lazy-preload\" data-src=\"https://static.mangajar.com/posters/3896/4WbcJJ0ejEp3jPXoBqKEFl2oM0SenUvveuSnQkOx_mini.jpg\" height=\"396\" src=\"data:image/svg+xml;base64,PHN2ZyB4bWxucz0naHR0cDovL3d3dy53My5vcmcvMjAwMC9zdmcnIHZpZXdCb3g9JzAgMCAyODAgMzk2Jz48L3N2Zz4=\" title=\"Please Go Home, Akutsu-San!\" width=\"280\"/>\\n</a>\\n<a href=\"/manga/please-go-home-akutsu-san\" title=\"Please Go Home, Akutsu-San!\"><h2 class=\"entry-title pl-1 h3\">Please Go Home, Akutsu-San!</h2></a>\\n<div class=\"post-description\">\\n<a class=\"card-about\" href=\"/manga/please-go-home-akutsu-san\"><p class=\"card-title js-card-title\">Please Go Home, Akutsu-San!</p>\\n<ul class=\"card-genres m-0 p-0\">\\n<li class=\"card-genres-item\">Comedy</li>\\n<li class=\"card-genres-item\">Ecchi</li>\\n</ul>\\n<ul class=\"card-numbers m-0 p-0\">\\n<li class=\"card-numbers-item\">\\n<span>Chapter: 113</span>\\n</li>\\n<li class=\"card-numbers-item\"><span class=\"fa fa-star rating-star\"> 4.32</span></li>\\n</ul>\\n<p class=\"card-text\">Ooyama-kun prefers not to mess with Akutsu-san, the bully girl in her class. However, it is not clear why, but she decides to make his house...</p>\\n</a>\\n</div>\\n<ul class=\"post-footer list-group list-group-flush\">\\n<li class=\"list-group-item px-1 py-1 small text-center\">\\n<span class=\"far fa-clock\"></span>\\nChapter\\n<a href=\"/manga/please-go-home-akutsu-san/chapter/108\" style=\"color: #ff4800;\" title=\"\">\\n108\\n</a>\\n<span>4 days ago</span>\\n</li>\\n</ul>\\n</article>,\n",
       " <article class=\"flex-item card mx-1 mx-md-2 mb-3 shadow-sm rounded\">\\n<a class=\"px-1 py-1\" href=\"/manga/baki-dou-2018\" title=\"Baki-Dou (2018)\">\\n<img alt=\"Baki-Dou (2018)\" class=\"img-fluid card-img-top lazy lazy-preload\" data-src=\"https://static.mangajar.com/posters/471/NHSz2qNgYp2pDGZ7YbrduMosH74jE0SQ5HcVpCX5_mini.png\" height=\"420\" src=\"data:image/svg+xml;base64,PHN2ZyB4bWxucz0naHR0cDovL3d3dy53My5vcmcvMjAwMC9zdmcnIHZpZXdCb3g9JzAgMCAyODAgNDIwJz48L3N2Zz4=\" title=\"Baki-Dou (2018)\" width=\"280\"/>\\n</a>\\n<a href=\"/manga/baki-dou-2018\" title=\"Baki-Dou (2018)\"><h2 class=\"entry-title pl-1 h3\">Baki-Dou (2018)</h2></a>\\n<div class=\"post-description\">\\n<a class=\"card-about\" href=\"/manga/baki-dou-2018\"><p class=\"card-title js-card-title\">Baki-Dou (2018)</p>\\n<ul class=\"card-genres m-0 p-0\">\\n<li class=\"card-genres-item\">Action</li>\\n<li class=\"card-genres-item\">Martial arts</li>\\n</ul>\\n<ul class=\"card-numbers m-0 p-0\">\\n<li class=\"card-numbers-item\">\\n<span>Chapter: 127</span>\\n</li>\\n<li class=\"card-numbers-item\"><span class=\"fa fa-star rating-star\"> 4.02</span></li>\\n</ul>\\n<p class=\"card-text\">After 2 thousand years, another powerful creature is reborn. Now Bucky will fight the mighty sumo god. Who will win?</p>\\n</a>\\n</div>\\n<ul class=\"post-footer list-group list-group-flush\">\\n<li class=\"list-group-item px-1 py-1 small text-center\">\\n<span class=\"far fa-clock\"></span>\\nChapter\\n<a href=\"/manga/baki-dou-2018/chapter/125\" style=\"color: #ff4800;\" title=\"Just How Fast Are They?\">\\n125\\n</a>\\n<span>1 week ago</span>\\n</li>\\n</ul>\\n</article>,\n",
       " <article class=\"flex-item card mx-1 mx-md-2 mb-3 shadow-sm rounded\">\\n<a class=\"px-1 py-1\" href=\"/manga/toilet-bound-hanako-kun-abs3hYp\" title=\"Toilet-Bound Hanako-kun\">\\n<img alt=\"Toilet-Bound Hanako-kun\" class=\"img-fluid card-img-top lazy lazy-preload\" data-src=\"https://static.mangajar.com/posters/439/zTJpUQoz50kwhPdatBHswCzYHedsvo2KrMzcI9oX_mini.png\" height=\"420\" src=\"data:image/svg+xml;base64,PHN2ZyB4bWxucz0naHR0cDovL3d3dy53My5vcmcvMjAwMC9zdmcnIHZpZXdCb3g9JzAgMCAyODAgNDIwJz48L3N2Zz4=\" title=\"Toilet-Bound Hanako-kun\" width=\"280\"/>\\n</a>\\n<a href=\"/manga/toilet-bound-hanako-kun-abs3hYp\" title=\"Toilet-Bound Hanako-kun\"><h2 class=\"entry-title pl-1 h3\">Toilet-Bound Hanako-kun</h2></a>\\n<div class=\"post-description\">\\n<a class=\"card-about\" href=\"/manga/toilet-bound-hanako-kun-abs3hYp\"><p class=\"card-title js-card-title\">Toilet-Bound Hanako-kun</p>\\n<ul class=\"card-genres m-0 p-0\">\\n<li class=\"card-genres-item\">Comedy</li>\\n<li class=\"card-genres-item\">School life</li>\\n</ul>\\n<ul class=\"card-numbers m-0 p-0\">\\n<li class=\"card-numbers-item\">\\n<span>Chapter: 90</span>\\n</li>\\n<li class=\"card-numbers-item\">\\n<span class=\"js-card-year\">Year: 2015</span>\\n</li>\\n<li class=\"card-numbers-item\"><span class=\"fa fa-star rating-star\"> 4.46</span></li>\\n</ul>\\n<p class=\"card-text\">In this legendary academy, there are rumors about the Seven Secrets of the school, one of which is the main character of the story. The thin...</p>\\n</a>\\n</div>\\n<ul class=\"post-footer list-group list-group-flush\">\\n<li class=\"list-group-item px-1 py-1 small text-center\">\\n<span class=\"far fa-clock\"></span>\\nChapter\\n<a href=\"/manga/toilet-bound-hanako-kun-abs3hYp/chapter/90\" style=\"color: #ff4800;\" title=\"Demon (Part 3)\">\\n90\\n</a>\\n<span>2 weeks ago</span>\\n</li>\\n</ul>\\n</article>,\n",
       " <article class=\"flex-item card mx-1 mx-md-2 mb-3 shadow-sm rounded\">\\n<a class=\"px-1 py-1\" href=\"/manga/diamond-no-ace-act-ii-abs3QCO\" title=\"Diamond no Ace Act II\">\\n<img alt=\"Diamond no Ace Act II\" class=\"img-fluid card-img-top lazy lazy-preload\" data-src=\"https://static.mangajar.com/posters/99/1hteuNcdlwdmjoCvV6KiQXLlvxJCqlfp28H3Mkoc_mini.jpg\" height=\"420\" src=\"data:image/svg+xml;base64,PHN2ZyB4bWxucz0naHR0cDovL3d3dy53My5vcmcvMjAwMC9zdmcnIHZpZXdCb3g9JzAgMCAyODAgNDIwJz48L3N2Zz4=\" title=\"Diamond no Ace Act II\" width=\"280\"/>\\n</a>\\n<a href=\"/manga/diamond-no-ace-act-ii-abs3QCO\" title=\"Diamond no Ace Act II\"><h2 class=\"entry-title pl-1 h3\">Diamond no Ace Act II</h2></a>\\n<div class=\"post-description\">\\n<a class=\"card-about\" href=\"/manga/diamond-no-ace-act-ii-abs3QCO\"><p class=\"card-title js-card-title\">Diamond no Ace Act II</p>\\n<ul class=\"card-genres m-0 p-0\">\\n<li class=\"card-genres-item\">Comedy</li>\\n<li class=\"card-genres-item\">School life</li>\\n</ul>\\n<ul class=\"card-numbers m-0 p-0\">\\n<li class=\"card-numbers-item\">\\n<span>Chapter: 290</span>\\n</li>\\n<li class=\"card-numbers-item\">\\n<span class=\"js-card-year\">Year: 2015</span>\\n</li>\\n<li class=\"card-numbers-item\"><span class=\"fa fa-star rating-star\"> 4.24</span></li>\\n</ul>\\n<p class=\"card-text\">Seydouh's high school baseball team, after the end of the fall tournament, embarks on their journey and struggles into the new season, facin...</p>\\n</a>\\n</div>\\n<ul class=\"post-footer list-group list-group-flush\">\\n<li class=\"list-group-item px-1 py-1 small text-center\">\\n<span class=\"far fa-clock\"></span>\\nChapter\\n<a href=\"/manga/diamond-no-ace-act-ii-abs3QCO/chapter/290\" style=\"color: #ff4800;\" title=\"\">\\n290\\n</a>\\n<span>2 weeks ago</span>\\n</li>\\n</ul>\\n</article>,\n",
       " <article class=\"flex-item card mx-1 mx-md-2 mb-3 shadow-sm rounded\">\\n<a class=\"px-1 py-1\" href=\"/manga/the-beginning-after-the-end-abs3tTJ\" title=\"The Beginning After the End\">\\n<img alt=\"The Beginning After the End\" class=\"img-fluid card-img-top lazy lazy-preload\" data-src=\"https://static.mangajar.com/posters/106/HUQT4Tppc3nXlZkt5YYxpLbIzAFEBOxsAELMnEGH_mini.jpg\" height=\"419\" src=\"data:image/svg+xml;base64,PHN2ZyB4bWxucz0naHR0cDovL3d3dy53My5vcmcvMjAwMC9zdmcnIHZpZXdCb3g9JzAgMCAyODAgNDE5Jz48L3N2Zz4=\" title=\"The Beginning After the End\" width=\"280\"/>\\n</a>\\n<a href=\"/manga/the-beginning-after-the-end-abs3tTJ\" title=\"The Beginning After the End\"><h2 class=\"entry-title pl-1 h3\">The Beginning After the End</h2></a>\\n<div class=\"post-description\">\\n<a class=\"card-about\" href=\"/manga/the-beginning-after-the-end-abs3tTJ\"><p class=\"card-title js-card-title\">The Beginning After the End</p>\\n<ul class=\"card-genres m-0 p-0\">\\n<li class=\"card-genres-item\">Adventure</li>\\n<li class=\"card-genres-item\">Fantasy</li>\\n</ul>\\n<ul class=\"card-numbers m-0 p-0\">\\n<li class=\"card-numbers-item\">\\n<span>Chapter: 145</span>\\n</li>\\n<li class=\"card-numbers-item\">\\n<span class=\"js-card-year\">Year: 2019</span>\\n</li>\\n<li class=\"card-numbers-item\"><span class=\"fa fa-star rating-star\"> 4.27</span></li>\\n</ul>\\n<p class=\"card-text\">The Gray King was the most powerful in a world where only strength matters. All creatures here fought only for the throne and glory, for whi...</p>\\n</a>\\n</div>\\n<ul class=\"post-footer list-group list-group-flush\">\\n<li class=\"list-group-item px-1 py-1 small text-center\">\\n<span class=\"far fa-clock\"></span>\\nChapter\\n<a href=\"/manga/the-beginning-after-the-end-abs3tTJ/chapter/148\" style=\"color: #ff4800;\" title=\"\">\\n148\\n</a>\\n<span>13 hours ago</span>\\n</li>\\n</ul>\\n</article>,\n",
       " <article class=\"flex-item card mx-1 mx-md-2 mb-3 shadow-sm rounded\">\\n<a class=\"px-1 py-1\" href=\"/manga/mairimashita-iruma-kun\" title=\"Mairimashita! Iruma-kun\">\\n<img alt=\"Mairimashita! Iruma-kun\" class=\"img-fluid card-img-top lazy lazy-preload\" data-src=\"https://static.mangajar.com/posters/290/EcrWiNNCCapmaIR3y8b0YlkKSOklEeOS8rHgNNJ7_mini.jpg\" height=\"420\" src=\"data:image/svg+xml;base64,PHN2ZyB4bWxucz0naHR0cDovL3d3dy53My5vcmcvMjAwMC9zdmcnIHZpZXdCb3g9JzAgMCAyODAgNDIwJz48L3N2Zz4=\" title=\"Mairimashita! Iruma-kun\" width=\"280\"/>\\n</a>\\n<a href=\"/manga/mairimashita-iruma-kun\" title=\"Mairimashita! Iruma-kun\"><h2 class=\"entry-title pl-1 h3\">Mairimashita! Iruma-kun</h2></a>\\n<div class=\"post-description\">\\n<a class=\"card-about\" href=\"/manga/mairimashita-iruma-kun\"><p class=\"card-title js-card-title\">Mairimashita! Iruma-kun</p>\\n<ul class=\"card-genres m-0 p-0\">\\n<li class=\"card-genres-item\">Fantasy</li>\\n<li class=\"card-genres-item\">Demons</li>\\n</ul>\\n<ul class=\"card-numbers m-0 p-0\">\\n<li class=\"card-numbers-item\">\\n<span>Chapter: 182</span>\\n</li>\\n<li class=\"card-numbers-item\">\\n<span class=\"js-card-year\">Year: 2017</span>\\n</li>\\n<li class=\"card-numbers-item\"><span class=\"fa fa-star rating-star\"> 4.19</span></li>\\n</ul>\\n<p class=\"card-text\">Suzuki Iruma was sold to a demon. The most unpleasant thing is that he was sold by his own parents, who wanted to get money in return. Howev...</p>\\n</a>\\n</div>\\n<ul class=\"post-footer list-group list-group-flush\">\\n<li class=\"list-group-item px-1 py-1 small text-center\">\\n<span class=\"far fa-clock\"></span>\\nChapter\\n<a href=\"/manga/mairimashita-iruma-kun/chapter/254\" style=\"color: #ff4800;\" title=\"Declaration\">\\n254\\n</a>\\n<span>1 day ago</span>\\n</li>\\n</ul>\\n</article>,\n",
       " <article class=\"flex-item card mx-1 mx-md-2 mb-3 shadow-sm rounded\">\\n<a class=\"px-1 py-1\" href=\"/manga/tokyo-revengers-abs3ycP\" title=\"Tokyo Revengers\">\\n<img alt=\"Tokyo Revengers\" class=\"img-fluid card-img-top lazy lazy-preload\" data-src=\"https://static.mangajar.com/posters/346/RBE2Tj6V4I9VwLj6umHjgJYugyLIh6CFH883reYM_mini.jpg\" height=\"420\" src=\"data:image/svg+xml;base64,PHN2ZyB4bWxucz0naHR0cDovL3d3dy53My5vcmcvMjAwMC9zdmcnIHZpZXdCb3g9JzAgMCAyODAgNDIwJz48L3N2Zz4=\" title=\"Tokyo Revengers\" width=\"280\"/>\\n</a>\\n<a href=\"/manga/tokyo-revengers-abs3ycP\" title=\"Tokyo Revengers\"><h2 class=\"entry-title pl-1 h3\">Tokyo Revengers</h2></a>\\n<div class=\"post-description\">\\n<a class=\"card-about\" href=\"/manga/tokyo-revengers-abs3ycP\"><p class=\"card-title js-card-title\">Tokyo Revengers</p>\\n<ul class=\"card-genres m-0 p-0\">\\n<li class=\"card-genres-item\">Action</li>\\n<li class=\"card-genres-item\">Romance</li>\\n</ul>\\n<ul class=\"card-numbers m-0 p-0\">\\n<li class=\"card-numbers-item\">\\n<span>Chapter: 230</span>\\n</li>\\n<li class=\"card-numbers-item\">\\n<span class=\"js-card-year\">Year: 2017</span>\\n</li>\\n<li class=\"card-numbers-item\"><span class=\"fa fa-star rating-star\"> 4.34</span></li>\\n</ul>\\n<p class=\"card-text\">Takimichi was a common 26-year-old virgin and loser who decides to return to the girl he was dating for school. However, he will be shocked...</p>\\n</a>\\n</div>\\n<ul class=\"post-footer list-group list-group-flush\">\\n<li class=\"list-group-item px-1 py-1 small text-center\">\\n<span class=\"far fa-clock\"></span>\\nChapter\\n<a href=\"/manga/tokyo-revengers-abs3ycP/chapter/255\" style=\"color: #ff4800;\" title=\"Holy Cow!\">\\n255\\n</a>\\n<span>3 days ago</span>\\n</li>\\n</ul>\\n</article>,\n",
       " <article class=\"flex-item card mx-1 mx-md-2 mb-3 shadow-sm rounded\">\\n<a class=\"px-1 py-1\" href=\"/manga/mercenary-enrollment\" title=\"Mercenary Enrollment\">\\n<img alt=\"Mercenary Enrollment\" class=\"img-fluid card-img-top lazy lazy-preload\" data-src=\"https://static.mangajar.com/posters/4120/p8FXUyRzw1zX50WzzklDyqdTeHTkXeKk59UY6dnl_mini.jpg\" height=\"403\" src=\"data:image/svg+xml;base64,PHN2ZyB4bWxucz0naHR0cDovL3d3dy53My5vcmcvMjAwMC9zdmcnIHZpZXdCb3g9JzAgMCAyODAgNDAzJz48L3N2Zz4=\" title=\"Mercenary Enrollment\" width=\"280\"/>\\n</a>\\n<a href=\"/manga/mercenary-enrollment\" title=\"Mercenary Enrollment\"><h2 class=\"entry-title pl-1 h3\">Mercenary Enrollment</h2></a>\\n<div class=\"post-description\">\\n<a class=\"card-about\" href=\"/manga/mercenary-enrollment\"><p class=\"card-title js-card-title\">Mercenary Enrollment</p>\\n<ul class=\"card-genres m-0 p-0\">\\n<li class=\"card-genres-item\">Action</li>\\n<li class=\"card-genres-item\">Adventure</li>\\n</ul>\\n<ul class=\"card-numbers m-0 p-0\">\\n<li class=\"card-numbers-item\">\\n<span>Chapter: 88</span>\\n</li>\\n<li class=\"card-numbers-item\"><span class=\"fa fa-star rating-star\"> 4.28</span></li>\\n</ul>\\n<p class=\"card-text\">Yu Ijin survived a horrific plane crash in his youth, in which only he survived. He had to become a mercenary to survive, and now, ten years...</p>\\n</a>\\n</div>\\n<ul class=\"post-footer list-group list-group-flush\">\\n<li class=\"list-group-item px-1 py-1 small text-center\">\\n<span class=\"far fa-clock\"></span>\\nChapter\\n<a href=\"/manga/mercenary-enrollment/chapter/87\" style=\"color: #ff4800;\" title=\"\">\\n87\\n</a>\\n<span>4 days ago</span>\\n</li>\\n</ul>\\n</article>,\n",
       " <article class=\"flex-item card mx-1 mx-md-2 mb-3 shadow-sm rounded\">\\n<a class=\"px-1 py-1\" href=\"/manga/onepunch-man-abs3nmK\" title=\"Onepunch-Man\">\\n<img alt=\"Onepunch-Man\" class=\"img-fluid card-img-top lazy lazy-preload\" data-src=\"https://static.mangajar.com/posters/3334/QzF6kbk9t7O12r0RsAczbRZxT1BXI1VFDYD3RmAL_mini.jpg\" height=\"401\" src=\"data:image/svg+xml;base64,PHN2ZyB4bWxucz0naHR0cDovL3d3dy53My5vcmcvMjAwMC9zdmcnIHZpZXdCb3g9JzAgMCAyODAgNDAxJz48L3N2Zz4=\" title=\"Onepunch-Man\" width=\"280\"/>\\n</a>\\n<a href=\"/manga/onepunch-man-abs3nmK\" title=\"Onepunch-Man\"><h2 class=\"entry-title pl-1 h3\">Onepunch-Man</h2></a>\\n<div class=\"post-description\">\\n<a class=\"card-about\" href=\"/manga/onepunch-man-abs3nmK\"><p class=\"card-title js-card-title\">Onepunch-Man</p>\\n<ul class=\"card-genres m-0 p-0\">\\n<li class=\"card-genres-item\">Fantasy</li>\\n<li class=\"card-genres-item\">Action</li>\\n</ul>\\n<ul class=\"card-numbers m-0 p-0\">\\n<li class=\"card-numbers-item\">\\n<span>Chapter: 204</span>\\n</li>\\n<li class=\"card-numbers-item\"><span class=\"fa fa-star rating-star\"> 4.35</span></li>\\n</ul>\\n<p class=\"card-text\">Long years of training have allowed Saitama to gain tremendous strength, thanks to which he can defeat any enemy with a single blow. He real...</p>\\n</a>\\n</div>\\n<ul class=\"post-footer list-group list-group-flush\">\\n<li class=\"list-group-item px-1 py-1 small text-center\">\\n<span class=\"far fa-clock\"></span>\\nChapter\\n<a href=\"/manga/onepunch-man-abs3nmK/chapter/163.5\" style=\"color: #ff4800;\" title=\"\">\\n163.5\\n</a>\\n<span>3 weeks ago</span>\\n</li>\\n</ul>\\n</article>,\n",
       " <article class=\"flex-item card mx-1 mx-md-2 mb-3 shadow-sm rounded\">\\n<a class=\"px-1 py-1\" href=\"/manga/miss-kobayashi-s-dragon-maid\" title=\"Miss Kobayashi's Dragon Maid\">\\n<img alt=\"Miss Kobayashi's Dragon Maid\" class=\"img-fluid card-img-top lazy lazy-preload\" data-src=\"https://static.mangajar.com/posters/175/VsBfzCUehYX1q87GcuuI9rvCxk9aUZj8C5iAf44A_mini.jpg\" height=\"420\" src=\"data:image/svg+xml;base64,PHN2ZyB4bWxucz0naHR0cDovL3d3dy53My5vcmcvMjAwMC9zdmcnIHZpZXdCb3g9JzAgMCAyODAgNDIwJz48L3N2Zz4=\" title=\"Miss Kobayashi's Dragon Maid\" width=\"280\"/>\\n</a>\\n<a href=\"/manga/miss-kobayashi-s-dragon-maid\" title=\"Miss Kobayashi's Dragon Maid\"><h2 class=\"entry-title pl-1 h3\">Miss Kobayashi's Dragon Maid</h2></a>\\n<div class=\"post-description\">\\n<a class=\"card-about\" href=\"/manga/miss-kobayashi-s-dragon-maid\"><p class=\"card-title js-card-title\">Miss Kobayashi's Dragon Maid</p>\\n<ul class=\"card-genres m-0 p-0\">\\n<li class=\"card-genres-item\">Comedy</li>\\n<li class=\"card-genres-item\">Fantasy</li>\\n</ul>\\n<ul class=\"card-numbers m-0 p-0\">\\n<li class=\"card-numbers-item\">\\n<span>Chapter: 120</span>\\n</li>\\n<li class=\"card-numbers-item\">\\n<span class=\"js-card-year\">Year: 2013</span>\\n</li>\\n<li class=\"card-numbers-item\"><span class=\"fa fa-star rating-star\"> 4.29</span></li>\\n</ul>\\n<p class=\"card-text\">Kobayashi led a relatively normal life as an office worker who returns to an empty apartment every day. However, one morning he wakes up and...</p>\\n</a>\\n</div>\\n<ul class=\"post-footer list-group list-group-flush\">\\n<li class=\"list-group-item px-1 py-1 small text-center\">\\n<span class=\"far fa-clock\"></span>\\nChapter\\n<a href=\"/manga/miss-kobayashi-s-dragon-maid/chapter/120\" style=\"color: #ff4800;\" title=\"Iruru And Fafnir\">\\n120\\n</a>\\n<span>1 week ago</span>\\n</li>\\n</ul>\\n</article>,\n",
       " <article class=\"flex-item card mx-1 mx-md-2 mb-3 shadow-sm rounded\">\\n<a class=\"px-1 py-1\" href=\"/manga/solo-leveling-abs3y4P\" title=\"Solo Leveling\">\\n<img alt=\"Solo Leveling\" class=\"img-fluid card-img-top lazy lazy-preload\" data-src=\"https://static.mangajar.com/posters/3/X95h1yB7kYLd1NMooll8LvqjG9SthKqHZwtEvJ6A_mini.jpg\" height=\"419\" src=\"data:image/svg+xml;base64,PHN2ZyB4bWxucz0naHR0cDovL3d3dy53My5vcmcvMjAwMC9zdmcnIHZpZXdCb3g9JzAgMCAyODAgNDE5Jz48L3N2Zz4=\" title=\"Solo Leveling\" width=\"280\"/>\\n</a>\\n<a href=\"/manga/solo-leveling-abs3y4P\" title=\"Solo Leveling\"><h2 class=\"entry-title pl-1 h3\">Solo Leveling</h2></a>\\n<div class=\"post-description\">\\n<a class=\"card-about\" href=\"/manga/solo-leveling-abs3y4P\"><p class=\"card-title js-card-title\">Solo Leveling</p>\\n<ul class=\"card-genres m-0 p-0\">\\n<li class=\"card-genres-item\">Fantasy</li>\\n<li class=\"card-genres-item\">Adventure</li>\\n</ul>\\n<ul class=\"card-numbers m-0 p-0\">\\n<li class=\"card-numbers-item\">\\n<span>Chapter: 186</span>\\n</li>\\n<li class=\"card-numbers-item\">\\n<span class=\"js-card-year\">Year: 2018</span>\\n</li>\\n<li class=\"card-numbers-item\"><span class=\"fa fa-star rating-star\"> 4.35</span></li>\\n</ul>\\n<p class=\"card-text\">Ten years ago, a gate opened into our world, through which terrifying monsters rushed here. However, along with this, people received an ama...</p>\\n</a>\\n</div>\\n<ul class=\"post-footer list-group list-group-flush\">\\n<li class=\"list-group-item px-1 py-1 small text-center\">\\n<span class=\"far fa-clock\"></span>\\nChapter\\n<a href=\"/manga/solo-leveling-abs3y4P/chapter/180.1\" style=\"color: #ff4800;\" title=\"Chapter Announcement\">\\n180.1\\n</a>\\n<span>1 week ago</span>\\n</li>\\n</ul>\\n</article>,\n",
       " <article class=\"flex-item card mx-1 mx-md-2 mb-3 shadow-sm rounded\">\\n<a class=\"px-1 py-1\" href=\"/manga/my-dress-up-darling-abs3t25\" title=\"My Dress-Up Darling\">\\n<img alt=\"My Dress-Up Darling\" class=\"img-fluid card-img-top lazy lazy-preload\" data-src=\"https://static.mangajar.com/posters/237/jdoG4twwxZE1TfIwuR3XGzmRlTqPCTYpj2926hOH_mini.png\" height=\"420\" src=\"data:image/svg+xml;base64,PHN2ZyB4bWxucz0naHR0cDovL3d3dy53My5vcmcvMjAwMC9zdmcnIHZpZXdCb3g9JzAgMCAyODAgNDIwJz48L3N2Zz4=\" title=\"My Dress-Up Darling\" width=\"280\"/>\\n</a>\\n<a href=\"/manga/my-dress-up-darling-abs3t25\" title=\"My Dress-Up Darling\"><h2 class=\"entry-title pl-1 h3\">My Dress-Up Darling</h2></a>\\n<div class=\"post-description\">\\n<a class=\"card-about\" href=\"/manga/my-dress-up-darling-abs3t25\"><p class=\"card-title js-card-title\">My Dress-Up Darling</p>\\n<ul class=\"card-genres m-0 p-0\">\\n<li class=\"card-genres-item\">Ecchi</li>\\n<li class=\"card-genres-item\">Romance</li>\\n</ul>\\n<ul class=\"card-numbers m-0 p-0\">\\n<li class=\"card-numbers-item\">\\n<span>Chapter: 63</span>\\n</li>\\n<li class=\"card-numbers-item\">\\n<span class=\"js-card-year\">Year: 2018</span>\\n</li>\\n<li class=\"card-numbers-item\"><span class=\"fa fa-star rating-star\"> 4.18</span></li>\\n</ul>\\n<p class=\"card-text\">Wkana Godse was an ordinary 15-year-old boy who suffered severe social trauma from his hobby of making and playing with dolls. He loved this...</p>\\n</a>\\n</div>\\n<ul class=\"post-footer list-group list-group-flush\">\\n<li class=\"list-group-item px-1 py-1 small text-center\">\\n<span class=\"far fa-clock\"></span>\\nChapter\\n<a href=\"/manga/my-dress-up-darling-abs3t25/chapter/75\" style=\"color: #ff4800;\" title=\"\">\\n75\\n</a>\\n<span>1 week ago</span>\\n</li>\\n</ul>\\n</article>,\n",
       " <article class=\"flex-item card mx-1 mx-md-2 mb-3 shadow-sm rounded\">\\n<a class=\"px-1 py-1\" href=\"/manga/the-strongest-magical-swordsman-ever-reborn-as-an-f-rank-adventurer-abs3z3G\" title=\"The Strongest Magical Swordsman Ever Reborn As An F-Rank Adventurer.\">\\n<img alt=\"The Strongest Magical Swordsman Ever Reborn As An F-Rank Adventurer.\" class=\"img-fluid card-img-top lazy lazy-preload\" data-src=\"https://static.mangajar.com/posters/4474/faGAH0QBGn0xanzTeRzbBcJXjRTUBtHWA44WGFrE_mini.jpg\" height=\"419\" src=\"data:image/svg+xml;base64,PHN2ZyB4bWxucz0naHR0cDovL3d3dy53My5vcmcvMjAwMC9zdmcnIHZpZXdCb3g9JzAgMCAyODAgNDE5Jz48L3N2Zz4=\" title=\"The Strongest Magical Swordsman Ever Reborn As An F-Rank Adventurer.\" width=\"280\"/>\\n</a>\\n<a href=\"/manga/the-strongest-magical-swordsman-ever-reborn-as-an-f-rank-adventurer-abs3z3G\" title=\"The Strongest Magical Swordsman Ever Reborn As An F-Rank Adventurer.\"><h2 class=\"entry-title pl-1 h3\">The Strongest Magical Swordsma...</h2></a>\\n<div class=\"post-description\">\\n<a class=\"card-about\" href=\"/manga/the-strongest-magical-swordsman-ever-reborn-as-an-f-rank-adventurer-abs3z3G\"><p class=\"card-title js-card-title\">The Strongest Magical Swordsman Ever Reborn As An F-Rank Adventurer.</p>\\n<ul class=\"card-genres m-0 p-0\">\\n<li class=\"card-genres-item\">Action</li>\\n<li class=\"card-genres-item\">Adventure</li>\\n</ul>\\n<ul class=\"card-numbers m-0 p-0\">\\n<li class=\"card-numbers-item\">\\n<span>Chapter: 63</span>\\n</li>\\n<li class=\"card-numbers-item\"><span class=\"fa fa-star rating-star\"> 4.05</span></li>\\n</ul>\\n<p class=\"card-text\">Aizawa Yuri has already been reborn twice. He was very tired of being emperor here and there. Thanks to his skills, he acquired the artifact...</p>\\n</a>\\n</div>\\n<ul class=\"post-footer list-group list-group-flush\">\\n<li class=\"list-group-item px-1 py-1 small text-center\">\\n<span class=\"far fa-clock\"></span>\\nChapter\\n<a href=\"/manga/the-strongest-magical-swordsman-ever-reborn-as-an-f-rank-adventurer-abs3z3G/chapter/71\" style=\"color: #ff4800;\" title=\"\">\\n71\\n</a>\\n<span>5 days ago</span>\\n</li>\\n</ul>\\n</article>,\n",
       " <article class=\"flex-item card mx-1 mx-md-2 mb-3 shadow-sm rounded\">\\n<a class=\"px-1 py-1\" href=\"/manga/kiss-x-sis\" title=\"Kiss x Sis\">\\n<img alt=\"Kiss x Sis\" class=\"img-fluid card-img-top lazy lazy-preload\" data-src=\"https://static.mangajar.com/posters/1466/pz4VK5XwTV8XtzkZdu426mOxxZEfqVAZgOuVtgw8_mini.jpg\" height=\"420\" src=\"data:image/svg+xml;base64,PHN2ZyB4bWxucz0naHR0cDovL3d3dy53My5vcmcvMjAwMC9zdmcnIHZpZXdCb3g9JzAgMCAyODAgNDIwJz48L3N2Zz4=\" title=\"Kiss x Sis\" width=\"280\"/>\\n</a>\\n<a href=\"/manga/kiss-x-sis\" title=\"Kiss x Sis\"><h2 class=\"entry-title pl-1 h3\">Kiss x Sis</h2></a>\\n<div class=\"post-description\">\\n<a class=\"card-about\" href=\"/manga/kiss-x-sis\"><p class=\"card-title js-card-title\">Kiss x Sis</p>\\n<ul class=\"card-genres m-0 p-0\">\\n<li class=\"card-genres-item\">Harem</li>\\n<li class=\"card-genres-item\">Seinen</li>\\n</ul>\\n<ul class=\"card-numbers m-0 p-0\">\\n<li class=\"card-numbers-item\">\\n<span>Chapter: 157</span>\\n</li>\\n<li class=\"card-numbers-item\">\\n<span class=\"js-card-year\">Year: 2005</span>\\n</li>\\n<li class=\"card-numbers-item\"><span class=\"fa fa-star rating-star\"> 4.12</span></li>\\n</ul>\\n<p class=\"card-text\">Keita's two step-sisters are lustful towards him. They don't hesitate to express their feelings. Moreover, they are competiting between each...</p>\\n</a>\\n</div>\\n<ul class=\"post-footer list-group list-group-flush\">\\n<li class=\"list-group-item px-1 py-1 small text-center\">\\n<span class=\"far fa-clock\"></span>\\nChapter\\n<a href=\"/manga/kiss-x-sis/chapter/153\" style=\"color: #ff4800;\" title=\"Submit To The Sisters\">\\n153\\n</a>\\n<span>1 month ago</span>\\n</li>\\n</ul>\\n</article>,\n",
       " <article class=\"flex-item card mx-1 mx-md-2 mb-3 shadow-sm rounded\">\\n<a class=\"px-1 py-1\" href=\"/manga/blue-lock-abs39o6\" title=\"Blue Lock\">\\n<img alt=\"Blue Lock\" class=\"img-fluid card-img-top lazy lazy-preload\" data-src=\"https://static.mangajar.com/posters/621/z0JTdhI2llxtiKfjnSato2xAdop55NLwKhgIkLxd_mini.jpg\" height=\"420\" src=\"data:image/svg+xml;base64,PHN2ZyB4bWxucz0naHR0cDovL3d3dy53My5vcmcvMjAwMC9zdmcnIHZpZXdCb3g9JzAgMCAyODAgNDIwJz48L3N2Zz4=\" title=\"Blue Lock\" width=\"280\"/>\\n</a>\\n<a href=\"/manga/blue-lock-abs39o6\" title=\"Blue Lock\"><h2 class=\"entry-title pl-1 h3\">Blue Lock</h2></a>\\n<div class=\"post-description\">\\n<a class=\"card-about\" href=\"/manga/blue-lock-abs39o6\"><p class=\"card-title js-card-title\">Blue Lock</p>\\n<ul class=\"card-genres m-0 p-0\">\\n<li class=\"card-genres-item\">Action</li>\\n<li class=\"card-genres-item\">Drama</li>\\n</ul>\\n<ul class=\"card-numbers m-0 p-0\">\\n<li class=\"card-numbers-item\">\\n<span>Chapter: 153</span>\\n</li>\\n<li class=\"card-numbers-item\"><span class=\"fa fa-star rating-star\"> 4.38</span></li>\\n</ul>\\n<p class=\"card-text\">The plot originates from discharge of Japan from the FIFA World Cup in 018. It becomes motivation for Association on soccer to organize the...</p>\\n</a>\\n</div>\\n<ul class=\"post-footer list-group list-group-flush\">\\n<li class=\"list-group-item px-1 py-1 small text-center\">\\n<span class=\"far fa-clock\"></span>\\nChapter\\n<a href=\"/manga/blue-lock-abs39o6/chapter/175\" style=\"color: #ff4800;\" title=\"Ideal And Reality\">\\n175\\n</a>\\n<span>2 days ago</span>\\n</li>\\n</ul>\\n</article>,\n",
       " <article class=\"flex-item card mx-1 mx-md-2 mb-3 shadow-sm rounded\">\\n<a class=\"px-1 py-1\" href=\"/manga/kaiko-sareta-ankoku-heishi-30-dai-no-slow-na-second-life\" title=\"Kaiko Sareta Ankoku Heishi (30-Dai) No Slow Na Second Life\">\\n<img alt=\"Kaiko Sareta Ankoku Heishi (30-Dai) No Slow Na Second Life\" class=\"img-fluid card-img-top lazy lazy-preload\" data-src=\"https://static.mangajar.com/posters/4463/ZF7k5WR7FucNQYe30Pu2F2FaGjgPg1gucZi83m7m_mini.jpg\" height=\"419\" src=\"data:image/svg+xml;base64,PHN2ZyB4bWxucz0naHR0cDovL3d3dy53My5vcmcvMjAwMC9zdmcnIHZpZXdCb3g9JzAgMCAyODAgNDE5Jz48L3N2Zz4=\" title=\"Kaiko Sareta Ankoku Heishi (30-Dai) No Slow Na Second Life\" width=\"280\"/>\\n</a>\\n<a href=\"/manga/kaiko-sareta-ankoku-heishi-30-dai-no-slow-na-second-life\" title=\"Kaiko Sareta Ankoku Heishi (30-Dai) No Slow Na Second Life\"><h2 class=\"entry-title pl-1 h3\">Kaiko Sareta Ankoku Heishi (30...</h2></a>\\n<div class=\"post-description\">\\n<a class=\"card-about\" href=\"/manga/kaiko-sareta-ankoku-heishi-30-dai-no-slow-na-second-life\"><p class=\"card-title js-card-title\">Kaiko Sareta Ankoku Heishi (30-Dai) No Slow Na Second Life</p>\\n<ul class=\"card-genres m-0 p-0\">\\n<li class=\"card-genres-item\">Fantasy</li>\\n<li class=\"card-genres-item\">Seinen</li>\\n</ul>\\n<ul class=\"card-numbers m-0 p-0\">\\n<li class=\"card-numbers-item\">\\n<span>Chapter: 47</span>\\n</li>\\n<li class=\"card-numbers-item\"><span class=\"fa fa-star rating-star\"> 4.39</span></li>\\n</ul>\\n<p class=\"card-text\">A dark soldier named Dariel was thirty years old when he was fired from the demonic army for being unable to use magic. His new desperate li...</p>\\n</a>\\n</div>\\n<ul class=\"post-footer list-group list-group-flush\">\\n<li class=\"list-group-item px-1 py-1 small text-center\">\\n<span class=\"far fa-clock\"></span>\\nChapter\\n<a href=\"/manga/kaiko-sareta-ankoku-heishi-30-dai-no-slow-na-second-life/chapter/30\" style=\"color: #ff4800;\" title=\"After The Battle\">\\n30\\n</a>\\n<span>4 days ago</span>\\n</li>\\n</ul>\\n</article>,\n",
       " <article class=\"flex-item card mx-1 mx-md-2 mb-3 shadow-sm rounded\">\\n<a class=\"px-1 py-1\" href=\"/manga/yancha-gal-no-anjou-san\" title=\"Yancha Gal no Anjou-san\">\\n<img alt=\"Yancha Gal no Anjou-san\" class=\"img-fluid card-img-top lazy lazy-preload\" data-src=\"https://static.mangajar.com/posters/151/j3s2oImrAjFiGfCy7TVNXlDTMZHliUjzAoCMCcH8_mini.png\" height=\"420\" src=\"data:image/svg+xml;base64,PHN2ZyB4bWxucz0naHR0cDovL3d3dy53My5vcmcvMjAwMC9zdmcnIHZpZXdCb3g9JzAgMCAyODAgNDIwJz48L3N2Zz4=\" title=\"Yancha Gal no Anjou-san\" width=\"280\"/>\\n</a>\\n<a href=\"/manga/yancha-gal-no-anjou-san\" title=\"Yancha Gal no Anjou-san\"><h2 class=\"entry-title pl-1 h3\">Yancha Gal no Anjou-san</h2></a>\\n<div class=\"post-description\">\\n<a class=\"card-about\" href=\"/manga/yancha-gal-no-anjou-san\"><p class=\"card-title js-card-title\">Yancha Gal no Anjou-san</p>\\n<ul class=\"card-genres m-0 p-0\">\\n<li class=\"card-genres-item\">Comedy</li>\\n<li class=\"card-genres-item\">Ecchi</li>\\n</ul>\\n<ul class=\"card-numbers m-0 p-0\">\\n<li class=\"card-numbers-item\">\\n<span>Chapter: 118</span>\\n</li>\\n<li class=\"card-numbers-item\"><span class=\"fa fa-star rating-star\"> 4.21</span></li>\\n</ul>\\n<p class=\"card-text\">Seto was a serious child who led a quiet and measured school life until he was teased by Gal Anjou.</p>\\n</a>\\n</div>\\n<ul class=\"post-footer list-group list-group-flush\">\\n<li class=\"list-group-item px-1 py-1 small text-center\">\\n<span class=\"far fa-clock\"></span>\\nChapter\\n<a href=\"/manga/yancha-gal-no-anjou-san/chapter/124\" style=\"color: #ff4800;\" title=\"Toyoda-San Lets Out A Sigh\">\\n124\\n</a>\\n<span>2 weeks ago</span>\\n</li>\\n</ul>\\n</article>,\n",
       " <article class=\"flex-item card mx-1 mx-md-2 mb-3 shadow-sm rounded\">\\n<a class=\"px-1 py-1\" href=\"/manga/sss-class-suicide-hunter-abs38tV\" title=\"Sss-Class Suicide Hunter\">\\n<img alt=\"Sss-Class Suicide Hunter\" class=\"img-fluid card-img-top lazy lazy-preload\" data-src=\"https://static.mangajar.com/posters/3744/MmcqHMRiPKvXF3joST813kzLd7PHDLXzPQI9hIhP_mini.jpg\" height=\"377\" src=\"data:image/svg+xml;base64,PHN2ZyB4bWxucz0naHR0cDovL3d3dy53My5vcmcvMjAwMC9zdmcnIHZpZXdCb3g9JzAgMCAyODAgMzc3Jz48L3N2Zz4=\" title=\"Sss-Class Suicide Hunter\" width=\"280\"/>\\n</a>\\n<a href=\"/manga/sss-class-suicide-hunter-abs38tV\" title=\"Sss-Class Suicide Hunter\"><h2 class=\"entry-title pl-1 h3\">Sss-Class Suicide Hunter</h2></a>\\n<div class=\"post-description\">\\n<a class=\"card-about\" href=\"/manga/sss-class-suicide-hunter-abs38tV\"><p class=\"card-title js-card-title\">Sss-Class Suicide Hunter</p>\\n<ul class=\"card-genres m-0 p-0\">\\n<li class=\"card-genres-item\">Fantasy</li>\\n<li class=\"card-genres-item\">Adventure</li>\\n</ul>\\n<ul class=\"card-numbers m-0 p-0\">\\n<li class=\"card-numbers-item\">\\n<span>Chapter: 77</span>\\n</li>\\n<li class=\"card-numbers-item\"><span class=\"fa fa-star rating-star\"> 4.13</span></li>\\n</ul>\\n<p class=\"card-text\">I really want to get the top tier skill. I'm ready to die for this! [You have awakened an S-grade skill.] [But it only works when you die.]...</p>\\n</a>\\n</div>\\n<ul class=\"post-footer list-group list-group-flush\">\\n<li class=\"list-group-item px-1 py-1 small text-center\">\\n<span class=\"far fa-clock\"></span>\\nChapter\\n<a href=\"/manga/sss-class-suicide-hunter-abs38tV/chapter/75\" style=\"color: #ff4800;\" title=\"\">\\n75\\n</a>\\n<span>1 day ago</span>\\n</li>\\n</ul>\\n</article>,\n",
       " <article class=\"flex-item card mx-1 mx-md-2 mb-3 shadow-sm rounded\">\\n<a class=\"px-1 py-1\" href=\"/manga/haite-kudasai-takamine-san\" title=\"Haite Kudasai, Takamine San\">\\n<img alt=\"Haite Kudasai, Takamine San\" class=\"img-fluid card-img-top lazy lazy-preload\" data-src=\"https://static.mangajar.com/posters/173/0TG2tBJ9jqEiKunDNidPOoVZRb0rprjLob1HJNpo_mini.jpg\" height=\"420\" src=\"data:image/svg+xml;base64,PHN2ZyB4bWxucz0naHR0cDovL3d3dy53My5vcmcvMjAwMC9zdmcnIHZpZXdCb3g9JzAgMCAyODAgNDIwJz48L3N2Zz4=\" title=\"Haite Kudasai, Takamine San\" width=\"280\"/>\\n</a>\\n<a href=\"/manga/haite-kudasai-takamine-san\" title=\"Haite Kudasai, Takamine San\"><h2 class=\"entry-title pl-1 h3\">Haite Kudasai, Takamine San</h2></a>\\n<div class=\"post-description\">\\n<a class=\"card-about\" href=\"/manga/haite-kudasai-takamine-san\"><p class=\"card-title js-card-title\">Haite Kudasai, Takamine San</p>\\n<ul class=\"card-genres m-0 p-0\">\\n<li class=\"card-genres-item\">Ecchi</li>\\n<li class=\"card-genres-item\">School life</li>\\n</ul>\\n<ul class=\"card-numbers m-0 p-0\">\\n<li class=\"card-numbers-item\">\\n<span>Chapter: 39</span>\\n</li>\\n<li class=\"card-numbers-item\"><span class=\"fa fa-star rating-star\"> 4.07</span></li>\\n</ul>\\n<p class=\"card-text\">The life of the guy who is the protagonist of the story will change dramatically when he sees the bare chest of the president of the school....</p>\\n</a>\\n</div>\\n<ul class=\"post-footer list-group list-group-flush\">\\n<li class=\"list-group-item px-1 py-1 small text-center\">\\n<span class=\"far fa-clock\"></span>\\nChapter\\n<a href=\"/manga/haite-kudasai-takamine-san/chapter/38\" style=\"color: #ff4800;\" title=\"Just Clear It Up\">\\n38\\n</a>\\n<span>1 month ago</span>\\n</li>\\n</ul>\\n</article>,\n",
       " <article class=\"flex-item card mx-1 mx-md-2 mb-3 shadow-sm rounded\">\\n<a class=\"px-1 py-1\" href=\"/manga/the-strongest-brave-who-craves-for-revenge-extinguish-with-the-power-of-darkness\" title=\"The Strongest Brave Who Craves For Revenge, Extinguish With The Power Of Darkness\">\\n<img alt=\"The Strongest Brave Who Craves For Revenge, Extinguish With The Power Of Darkness\" class=\"img-fluid card-img-top lazy lazy-preload\" data-src=\"https://static.mangajar.com/posters/1144/AduplRZmrgyWFXlhAtn8dMcF9sC6hz5xAXwbTRnc_mini.jpg\" height=\"420\" src=\"data:image/svg+xml;base64,PHN2ZyB4bWxucz0naHR0cDovL3d3dy53My5vcmcvMjAwMC9zdmcnIHZpZXdCb3g9JzAgMCAyODAgNDIwJz48L3N2Zz4=\" title=\"The Strongest Brave Who Craves For Revenge, Extinguish With The Power Of Darkness\" width=\"280\"/>\\n</a>\\n<a href=\"/manga/the-strongest-brave-who-craves-for-revenge-extinguish-with-the-power-of-darkness\" title=\"The Strongest Brave Who Craves For Revenge, Extinguish With The Power Of Darkness\"><h2 class=\"entry-title pl-1 h3\">The Strongest Brave Who Craves...</h2></a>\\n<div class=\"post-description\">\\n<a class=\"card-about\" href=\"/manga/the-strongest-brave-who-craves-for-revenge-extinguish-with-the-power-of-darkness\"><p class=\"card-title js-card-title\">The Strongest Brave Who Craves For Revenge, Extinguish With The Power Of Darkness</p>\\n<ul class=\"card-genres m-0 p-0\">\\n<li class=\"card-genres-item\">Fantasy</li>\\n<li class=\"card-genres-item\">Shounen</li>\\n</ul>\\n<ul class=\"card-numbers m-0 p-0\">\\n<li class=\"card-numbers-item\">\\n<span>Chapter: 71</span>\\n</li>\\n<li class=\"card-numbers-item\"><span class=\"fa fa-star rating-star\"> 3.99</span></li>\\n</ul>\\n<p class=\"card-text\">Raul had defeated the king of demons. After this, he is considered the bravest hero who has to save the whole world. When his family and fri...</p>\\n</a>\\n</div>\\n<ul class=\"post-footer list-group list-group-flush\">\\n<li class=\"list-group-item px-1 py-1 small text-center\">\\n<span class=\"far fa-clock\"></span>\\nChapter\\n<a href=\"/manga/the-strongest-brave-who-craves-for-revenge-extinguish-with-the-power-of-darkness/chapter/54.1\" style=\"color: #ff4800;\" title=\"\">\\n54.1\\n</a>\\n<span>5 days ago</span>\\n</li>\\n</ul>\\n</article>,\n",
       " <article class=\"flex-item card mx-1 mx-md-2 mb-3 shadow-sm rounded\">\\n<a class=\"px-1 py-1\" href=\"/manga/3-gatsu-no-lion\" title=\"3-gatsu no Lion\">\\n<img alt=\"3-gatsu no Lion\" class=\"img-fluid card-img-top lazy lazy-preload\" data-src=\"https://static.mangajar.com/posters/602/vvpRq0yXDmRMzm59w5GlkF1U5Hjfe6kR1E5NE4HA_mini.jpg\" height=\"420\" src=\"data:image/svg+xml;base64,PHN2ZyB4bWxucz0naHR0cDovL3d3dy53My5vcmcvMjAwMC9zdmcnIHZpZXdCb3g9JzAgMCAyODAgNDIwJz48L3N2Zz4=\" title=\"3-gatsu no Lion\" width=\"280\"/>\\n</a>\\n<a href=\"/manga/3-gatsu-no-lion\" title=\"3-gatsu no Lion\"><h2 class=\"entry-title pl-1 h3\">3-gatsu no Lion</h2></a>\\n<div class=\"post-description\">\\n<a class=\"card-about\" href=\"/manga/3-gatsu-no-lion\"><p class=\"card-title js-card-title\">3-gatsu no Lion</p>\\n<ul class=\"card-genres m-0 p-0\">\\n<li class=\"card-genres-item\">Drama</li>\\n<li class=\"card-genres-item\">Slice of life</li>\\n</ul>\\n<ul class=\"card-numbers m-0 p-0\">\\n<li class=\"card-numbers-item\">\\n<span>Chapter: 207</span>\\n</li>\\n<li class=\"card-numbers-item\">\\n<span class=\"js-card-year\">Year: 2007</span>\\n</li>\\n<li class=\"card-numbers-item\"><span class=\"fa fa-star rating-star\"> 4.32</span></li>\\n</ul>\\n<p class=\"card-text\">The main character is Ray. He is 17 years old. He is a player Shogi. He has no family, one lives. Doesn't go to school and even he has no fr...</p>\\n</a>\\n</div>\\n<ul class=\"post-footer list-group list-group-flush\">\\n<li class=\"list-group-item px-1 py-1 small text-center\">\\n<span class=\"far fa-clock\"></span>\\nChapter\\n<a href=\"/manga/3-gatsu-no-lion/chapter/192\" style=\"color: #ff4800;\" title=\"Path ~Path~ (10)\">\\n192\\n</a>\\n<span>1 week ago</span>\\n</li>\\n</ul>\\n</article>,\n",
       " <article class=\"flex-item card mx-1 mx-md-2 mb-3 shadow-sm rounded\">\\n<a class=\"px-1 py-1\" href=\"/manga/martial-peak\" title=\"Martial Peak\">\\n<img alt=\"Martial Peak\" class=\"img-fluid card-img-top lazy lazy-preload\" data-src=\"https://static.mangajar.com/posters/2992/rnZlEjFHjCpYENkSWopeJD5uP8ljT2jYS4Bz9PQ0_mini.jpg\" height=\"419\" src=\"data:image/svg+xml;base64,PHN2ZyB4bWxucz0naHR0cDovL3d3dy53My5vcmcvMjAwMC9zdmcnIHZpZXdCb3g9JzAgMCAyODAgNDE5Jz48L3N2Zz4=\" title=\"Martial Peak\" width=\"280\"/>\\n</a>\\n<a href=\"/manga/martial-peak\" title=\"Martial Peak\"><h2 class=\"entry-title pl-1 h3\">Martial Peak</h2></a>\\n<div class=\"post-description\">\\n<a class=\"card-about\" href=\"/manga/martial-peak\"><p class=\"card-title js-card-title\">Martial Peak</p>\\n<ul class=\"card-genres m-0 p-0\">\\n<li class=\"card-genres-item\">Action</li>\\n<li class=\"card-genres-item\">Adventure</li>\\n</ul>\\n<ul class=\"card-numbers m-0 p-0\">\\n<li class=\"card-numbers-item\">\\n<span>Chapter: 2275</span>\\n</li>\\n<li class=\"card-numbers-item\"><span class=\"fa fa-star rating-star\"> 4.03</span></li>\\n</ul>\\n<p class=\"card-text\">All that awaits in the near future is a long journey in solitude. At the same time, it is necessary to boldly confront the existing problems...</p>\\n</a>\\n</div>\\n<ul class=\"post-footer list-group list-group-flush\">\\n<li class=\"list-group-item px-1 py-1 small text-center\">\\n<span class=\"far fa-clock\"></span>\\nChapter\\n<a href=\"/manga/martial-peak/chapter/2287\" style=\"color: #ff4800;\" title=\"\">\\n2287\\n</a>\\n<span>13 hours ago</span>\\n</li>\\n</ul>\\n</article>,\n",
       " <article class=\"flex-item card mx-1 mx-md-2 mb-3 shadow-sm rounded\">\\n<a class=\"px-1 py-1\" href=\"/manga/my-wife-is-a-demon-queen\" title=\"My Wife is a Demon Queen\">\\n<img alt=\"My Wife is a Demon Queen\" class=\"img-fluid card-img-top lazy lazy-preload\" data-src=\"https://static.mangajar.com/posters/997/mvodpg4AUIlWW1V5Y7EDTpv0ZOQkhE1Kdd9q8UoB_mini.png\" height=\"420\" src=\"data:image/svg+xml;base64,PHN2ZyB4bWxucz0naHR0cDovL3d3dy53My5vcmcvMjAwMC9zdmcnIHZpZXdCb3g9JzAgMCAyODAgNDIwJz48L3N2Zz4=\" title=\"My Wife is a Demon Queen\" width=\"280\"/>\\n</a>\\n<a href=\"/manga/my-wife-is-a-demon-queen\" title=\"My Wife is a Demon Queen\"><h2 class=\"entry-title pl-1 h3\">My Wife is a Demon Queen</h2></a>\\n<div class=\"post-description\">\\n<a class=\"card-about\" href=\"/manga/my-wife-is-a-demon-queen\"><p class=\"card-title js-card-title\">My Wife is a Demon Queen</p>\\n<ul class=\"card-genres m-0 p-0\">\\n<li class=\"card-genres-item\">Comedy</li>\\n<li class=\"card-genres-item\">Isekai</li>\\n</ul>\\n<ul class=\"card-numbers m-0 p-0\">\\n<li class=\"card-numbers-item\">\\n<span>Chapter: 344</span>\\n</li>\\n<li class=\"card-numbers-item\"><span class=\"fa fa-star rating-star\"> 3.98</span></li>\\n</ul>\\n<p class=\"card-text\">Guess who I'm living my life with! It's a queen of demons!</p>\\n</a>\\n</div>\\n<ul class=\"post-footer list-group list-group-flush\">\\n<li class=\"list-group-item px-1 py-1 small text-center\">\\n<span class=\"far fa-clock\"></span>\\nChapter\\n<a href=\"/manga/my-wife-is-a-demon-queen/chapter/370\" style=\"color: #ff4800;\" title=\"\">\\n370\\n</a>\\n<span>5 days ago</span>\\n</li>\\n</ul>\\n</article>,\n",
       " <article class=\"flex-item card mx-1 mx-md-2 mb-3 shadow-sm rounded\">\\n<a class=\"px-1 py-1\" href=\"/manga/the-unsuccessful-yet-academically-unparalleled-sage-a-cheating-s-rank-sorcerer-s-post-rebirth-adventurer-log\" title=\"The Unsuccessful Yet Academically Unparalleled Sage ~A Cheating S-Rank Sorcerer's Post-Rebirth Adventurer Log~\">\\n<img alt=\"The Unsuccessful Yet Academically Unparalleled Sage ~A Cheating S-Rank Sorcerer's Post-Rebirth Adventurer Log~\" class=\"img-fluid card-img-top lazy lazy-preload\" data-src=\"https://static.mangajar.com/posters/4490/8K1tdnpuL9vXe3zY91Qqrz50G4k5jSqLZueWsY1L_mini.jpg\" height=\"419\" src=\"data:image/svg+xml;base64,PHN2ZyB4bWxucz0naHR0cDovL3d3dy53My5vcmcvMjAwMC9zdmcnIHZpZXdCb3g9JzAgMCAyODAgNDE5Jz48L3N2Zz4=\" title=\"The Unsuccessful Yet Academically Unparalleled Sage ~A Cheating S-Rank Sorcerer's Post-Rebirth Adventurer Log~\" width=\"280\"/>\\n</a>\\n<a href=\"/manga/the-unsuccessful-yet-academically-unparalleled-sage-a-cheating-s-rank-sorcerer-s-post-rebirth-adventurer-log\" title=\"The Unsuccessful Yet Academically Unparalleled Sage ~A Cheating S-Rank Sorcerer's Post-Rebirth Adventurer Log~\"><h2 class=\"entry-title pl-1 h3\">The Unsuccessful Yet Academica...</h2></a>\\n<div class=\"post-description\">\\n<a class=\"card-about\" href=\"/manga/the-unsuccessful-yet-academically-unparalleled-sage-a-cheating-s-rank-sorcerer-s-post-rebirth-adventurer-log\"><p class=\"card-title js-card-title\">The Unsuccessful Yet Academically Unparalleled Sage ~A Cheating S-Rank Sorcerer's Post-Rebirth Adventurer Log~</p>\\n<ul class=\"card-genres m-0 p-0\">\\n<li class=\"card-genres-item\">Action</li>\\n<li class=\"card-genres-item\">Adventure</li>\\n</ul>\\n<ul class=\"card-numbers m-0 p-0\">\\n<li class=\"card-numbers-item\">\\n<span>Chapter: 55</span>\\n</li>\\n<li class=\"card-numbers-item\"><span class=\"fa fa-star rating-star\"> 4.26</span></li>\\n</ul>\\n<p class=\"card-text\">The great sage reincarnated in a completely new world. He devoted his new life to the study of magical arts in order to gain incredible powe...</p>\\n</a>\\n</div>\\n<ul class=\"post-footer list-group list-group-flush\">\\n<li class=\"list-group-item px-1 py-1 small text-center\">\\n<span class=\"far fa-clock\"></span>\\nChapter\\n<a href=\"/manga/the-unsuccessful-yet-academically-unparalleled-sage-a-cheating-s-rank-sorcerer-s-post-rebirth-adventurer-log/chapter/13.7\" style=\"color: #ff4800;\" title=\"\">\\n13.7\\n</a>\\n<span>1 week ago</span>\\n</li>\\n</ul>\\n</article>,\n",
       " <article class=\"flex-item card mx-1 mx-md-2 mb-3 shadow-sm rounded\">\\n<a class=\"px-1 py-1\" href=\"/manga/song-of-the-night-walkers\" title=\"Song of the Night Walkers\">\\n<img alt=\"Song of the Night Walkers\" class=\"img-fluid card-img-top lazy lazy-preload\" data-src=\"https://static.mangajar.com/posters/853/FuVbmyemU6vKc9877oJC83adY30e28G2uymfu9K9_mini.png\" height=\"420\" src=\"data:image/svg+xml;base64,PHN2ZyB4bWxucz0naHR0cDovL3d3dy53My5vcmcvMjAwMC9zdmcnIHZpZXdCb3g9JzAgMCAyODAgNDIwJz48L3N2Zz4=\" title=\"Song of the Night Walkers\" width=\"280\"/>\\n</a>\\n<a href=\"/manga/song-of-the-night-walkers\" title=\"Song of the Night Walkers\"><h2 class=\"entry-title pl-1 h3\">Song of the Night Walkers</h2></a>\\n<div class=\"post-description\">\\n<a class=\"card-about\" href=\"/manga/song-of-the-night-walkers\"><p class=\"card-title js-card-title\">Song of the Night Walkers</p>\\n<ul class=\"card-genres m-0 p-0\">\\n<li class=\"card-genres-item\">Shounen</li>\\n<li class=\"card-genres-item\">Slice of life</li>\\n</ul>\\n<ul class=\"card-numbers m-0 p-0\">\\n<li class=\"card-numbers-item\">\\n<span>Chapter: 118</span>\\n</li>\\n<li class=\"card-numbers-item\"><span class=\"fa fa-star rating-star\"> 4.24</span></li>\\n</ul>\\n<p class=\"card-text\">Incapable to fall asleep or find adulating in own daily life, Yamori Ku begins to study the city a night in what place he meets the unusual...</p>\\n</a>\\n</div>\\n<ul class=\"post-footer list-group list-group-flush\">\\n<li class=\"list-group-item px-1 py-1 small text-center\">\\n<span class=\"far fa-clock\"></span>\\nChapter\\n<a href=\"/manga/song-of-the-night-walkers/chapter/118\" style=\"color: #ff4800;\" title=\"For Real...?\">\\n118\\n</a>\\n<span>1 day ago</span>\\n</li>\\n</ul>\\n</article>,\n",
       " <article class=\"flex-item card mx-1 mx-md-2 mb-3 shadow-sm rounded\">\\n<a class=\"px-1 py-1\" href=\"/manga/omniscient-reader-s-viewpoint-abs3rkN\" title=\"Omniscient Reader\\u2019S Viewpoint\">\\n<img alt=\"Omniscient Reader\\u2019S Viewpoint\" class=\"img-fluid card-img-top lazy lazy-preload\" data-src=\"https://static.mangajar.com/posters/4522/zD9jQMMWdt8eqRJ0EERDksDWCPYzpLzaDKHNsiTc_mini.jpg\" height=\"403\" src=\"data:image/svg+xml;base64,PHN2ZyB4bWxucz0naHR0cDovL3d3dy53My5vcmcvMjAwMC9zdmcnIHZpZXdCb3g9JzAgMCAyODAgNDAzJz48L3N2Zz4=\" title=\"Omniscient Reader\\u2019S Viewpoint\" width=\"280\"/>\\n</a>\\n<a href=\"/manga/omniscient-reader-s-viewpoint-abs3rkN\" title=\"Omniscient Reader\\u2019S Viewpoint\"><h2 class=\"entry-title pl-1 h3\">Omniscient Reader\\u2019S Viewpoint</h2></a>\\n<div class=\"post-description\">\\n<a class=\"card-about\" href=\"/manga/omniscient-reader-s-viewpoint-abs3rkN\"><p class=\"card-title js-card-title\">Omniscient Reader\\u2019S Viewpoint</p>\\n<ul class=\"card-genres m-0 p-0\">\\n<li class=\"card-genres-item\">Action</li>\\n<li class=\"card-genres-item\">Adventure</li>\\n</ul>\\n<ul class=\"card-numbers m-0 p-0\">\\n<li class=\"card-numbers-item\">\\n<span>Chapter: 108</span>\\n</li>\\n<li class=\"card-numbers-item\"><span class=\"fa fa-star rating-star\"> 4.3</span></li>\\n</ul>\\n<p class=\"card-text\">I only know about such a development! The moment his thoughts flowed in this way, the whole world collapsed, and the new universe got its be...</p>\\n</a>\\n</div>\\n<ul class=\"post-footer list-group list-group-flush\">\\n<li class=\"list-group-item px-1 py-1 small text-center\">\\n<span class=\"far fa-clock\"></span>\\nChapter\\n<a href=\"/manga/omniscient-reader-s-viewpoint-abs3rkN/chapter/109\" style=\"color: #ff4800;\" title=\"\">\\n109\\n</a>\\n<span>2 days ago</span>\\n</li>\\n</ul>\\n</article>,\n",
       " <article class=\"flex-item card mx-1 mx-md-2 mb-3 shadow-sm rounded\">\\n<a class=\"px-1 py-1\" href=\"/manga/kaguya-sama-wa-kokurasetai-tensai-tachi-no-renai-zunousen-abs38nS\" title=\"Kaguya-Sama Wa Kokurasetai - Tensai-Tachi No Renai Zunousen\">\\n<img alt=\"Kaguya-Sama Wa Kokurasetai - Tensai-Tachi No Renai Zunousen\" class=\"img-fluid card-img-top lazy lazy-preload\" data-src=\"https://static.mangajar.com/posters/3532/ZTuvuF6QLvj4ik0cmoWTdhyGeUx1bbyQfyYDifsm_mini.jpg\" height=\"399\" src=\"data:image/svg+xml;base64,PHN2ZyB4bWxucz0naHR0cDovL3d3dy53My5vcmcvMjAwMC9zdmcnIHZpZXdCb3g9JzAgMCAyODAgMzk5Jz48L3N2Zz4=\" title=\"Kaguya-Sama Wa Kokurasetai - Tensai-Tachi No Renai Zunousen\" width=\"280\"/>\\n</a>\\n<a href=\"/manga/kaguya-sama-wa-kokurasetai-tensai-tachi-no-renai-zunousen-abs38nS\" title=\"Kaguya-Sama Wa Kokurasetai - Tensai-Tachi No Renai Zunousen\"><h2 class=\"entry-title pl-1 h3\">Kaguya-Sama Wa Kokurasetai - T...</h2></a>\\n<div class=\"post-description\">\\n<a class=\"card-about\" href=\"/manga/kaguya-sama-wa-kokurasetai-tensai-tachi-no-renai-zunousen-abs38nS\"><p class=\"card-title js-card-title\">Kaguya-Sama Wa Kokurasetai - Tensai-Tachi No Renai Zunousen</p>\\n<ul class=\"card-genres m-0 p-0\">\\n<li class=\"card-genres-item\">Comedy</li>\\n<li class=\"card-genres-item\">Drama</li>\\n</ul>\\n<ul class=\"card-numbers m-0 p-0\">\\n<li class=\"card-numbers-item\">\\n<span>Chapter: 289</span>\\n</li>\\n<li class=\"card-numbers-item\"><span class=\"fa fa-star rating-star\"> 4.15</span></li>\\n</ul>\\n<p class=\"card-text\">Kaguya Shinomiya and Miyuki Shirogane are members of the incredibly prestigious student council of Suchiin Academy. This membership once aga...</p>\\n</a>\\n</div>\\n<ul class=\"post-footer list-group list-group-flush\">\\n<li class=\"list-group-item px-1 py-1 small text-center\">\\n<span class=\"far fa-clock\"></span>\\nChapter\\n<a href=\"/manga/kaguya-sama-wa-kokurasetai-tensai-tachi-no-renai-zunousen-abs38nS/chapter/264\" style=\"color: #ff4800;\" title=\"Kaguya-Sama Wants To Be Addressed\">\\n264\\n</a>\\n<span>6 days ago</span>\\n</li>\\n</ul>\\n</article>,\n",
       " <article class=\"flex-item card mx-1 mx-md-2 mb-3 shadow-sm rounded\">\\n<a class=\"px-1 py-1\" href=\"/manga/uragirareta-s-rank-boukensha-no-ore-wa-aisuru-dorei-no-kanojora-to-tomoni-dorei-dake-no-harem-guild-o-tsukuru\" title=\"Uragirareta S Rank Boukensha No Ore Wa, Aisuru Dorei No Kanojora To Tomoni Dorei Dake No Harem Guild O Tsukuru\">\\n<img alt=\"Uragirareta S Rank Boukensha No Ore Wa, Aisuru Dorei No Kanojora To Tomoni Dorei Dake No Harem Guild O Tsukuru\" class=\"img-fluid card-img-top lazy lazy-preload\" data-src=\"https://static.mangajar.com/posters/3414/IoJg9CA36jy2rw6X37ZfTAclgld3c63PxAh80kKt_mini.jpg\" height=\"399\" src=\"data:image/svg+xml;base64,PHN2ZyB4bWxucz0naHR0cDovL3d3dy53My5vcmcvMjAwMC9zdmcnIHZpZXdCb3g9JzAgMCAyODAgMzk5Jz48L3N2Zz4=\" title=\"Uragirareta S Rank Boukensha No Ore Wa, Aisuru Dorei No Kanojora To Tomoni Dorei Dake No Harem Guild O Tsukuru\" width=\"280\"/>\\n</a>\\n<a href=\"/manga/uragirareta-s-rank-boukensha-no-ore-wa-aisuru-dorei-no-kanojora-to-tomoni-dorei-dake-no-harem-guild-o-tsukuru\" title=\"Uragirareta S Rank Boukensha No Ore Wa, Aisuru Dorei No Kanojora To Tomoni Dorei Dake No Harem Guild O Tsukuru\"><h2 class=\"entry-title pl-1 h3\">Uragirareta S Rank Boukensha N...</h2></a>\\n<div class=\"post-description\">\\n<a class=\"card-about\" href=\"/manga/uragirareta-s-rank-boukensha-no-ore-wa-aisuru-dorei-no-kanojora-to-tomoni-dorei-dake-no-harem-guild-o-tsukuru\"><p class=\"card-title js-card-title\">Uragirareta S Rank Boukensha No Ore Wa, Aisuru Dorei No Kanojora To Tomoni Dorei Dake No Harem Guild O Tsukuru</p>\\n<ul class=\"card-genres m-0 p-0\">\\n<li class=\"card-genres-item\">Adventure</li>\\n<li class=\"card-genres-item\">Action</li>\\n</ul>\\n<ul class=\"card-numbers m-0 p-0\">\\n<li class=\"card-numbers-item\">\\n<span>Chapter: 33</span>\\n</li>\\n<li class=\"card-numbers-item\"><span class=\"fa fa-star rating-star\"> 4.06</span></li>\\n</ul>\\n<p class=\"card-text\">Egil was an adventurer of the highest skill level who hated the slave class. However, at a slave auction, he falls in love with one of them,...</p>\\n</a>\\n</div>\\n<ul class=\"post-footer list-group list-group-flush\">\\n<li class=\"list-group-item px-1 py-1 small text-center\">\\n<span class=\"far fa-clock\"></span>\\nChapter\\n<a href=\"/manga/uragirareta-s-rank-boukensha-no-ore-wa-aisuru-dorei-no-kanojora-to-tomoni-dorei-dake-no-harem-guild-o-tsukuru/chapter/33\" style=\"color: #ff4800;\" title=\"Fornication Is Required At The Time Of Contract\">\\n33\\n</a>\\n<span>2 weeks ago</span>\\n</li>\\n</ul>\\n</article>,\n",
       " <article class=\"flex-item card mx-1 mx-md-2 mb-3 shadow-sm rounded\">\\n<a class=\"px-1 py-1\" href=\"/manga/record-of-ragnarok-abs3QwH\" title=\"Record of Ragnarok\">\\n<img alt=\"Record of Ragnarok\" class=\"img-fluid card-img-top lazy lazy-preload\" data-src=\"https://static.mangajar.com/posters/197/QM3r3eH4MohCzx3VikvCMEeO7tkyShzKUlYprl5Q_mini.jpg\" height=\"420\" src=\"data:image/svg+xml;base64,PHN2ZyB4bWxucz0naHR0cDovL3d3dy53My5vcmcvMjAwMC9zdmcnIHZpZXdCb3g9JzAgMCAyODAgNDIwJz48L3N2Zz4=\" title=\"Record of Ragnarok\" width=\"280\"/>\\n</a>\\n<a href=\"/manga/record-of-ragnarok-abs3QwH\" title=\"Record of Ragnarok\"><h2 class=\"entry-title pl-1 h3\">Record of Ragnarok</h2></a>\\n<div class=\"post-description\">\\n<a class=\"card-about\" href=\"/manga/record-of-ragnarok-abs3QwH\"><p class=\"card-title js-card-title\">Record of Ragnarok</p>\\n<ul class=\"card-genres m-0 p-0\">\\n<li class=\"card-genres-item\">Fantasy</li>\\n<li class=\"card-genres-item\">Action</li>\\n</ul>\\n<ul class=\"card-numbers m-0 p-0\">\\n<li class=\"card-numbers-item\">\\n<span>Chapter: 53</span>\\n</li>\\n<li class=\"card-numbers-item\"><span class=\"fa fa-star rating-star\"> 4.46</span></li>\\n</ul>\\n<p class=\"card-text\">This story begins with a gathering of gods who will decide whether to allow humanity to live further, or to destroy it. As a result, they co...</p>\\n</a>\\n</div>\\n<ul class=\"post-footer list-group list-group-flush\">\\n<li class=\"list-group-item px-1 py-1 small text-center\">\\n<span class=\"far fa-clock\"></span>\\nChapter\\n<a href=\"/manga/record-of-ragnarok-abs3QwH/chapter/62\" style=\"color: #ff4800;\" title=\"\">\\n62\\n</a>\\n<span>1 week ago</span>\\n</li>\\n</ul>\\n</article>,\n",
       " <article class=\"flex-item card mx-1 mx-md-2 mb-3 shadow-sm rounded\">\\n<a class=\"px-1 py-1\" href=\"/manga/the-duke-of-death-and-his-black-maid\" title=\"The Duke of Death and his Black Maid\">\\n<img alt=\"The Duke of Death and his Black Maid\" class=\"img-fluid card-img-top lazy lazy-preload\" data-src=\"https://static.mangajar.com/posters/460/gH5h6QDqapM40Kv6qfLSGVT3dVdbm21EDuXILoIe_mini.jpg\" height=\"434\" src=\"data:image/svg+xml;base64,PHN2ZyB4bWxucz0naHR0cDovL3d3dy53My5vcmcvMjAwMC9zdmcnIHZpZXdCb3g9JzAgMCAyODAgNDM0Jz48L3N2Zz4=\" title=\"The Duke of Death and his Black Maid\" width=\"280\"/>\\n</a>\\n<a href=\"/manga/the-duke-of-death-and-his-black-maid\" title=\"The Duke of Death and his Black Maid\"><h2 class=\"entry-title pl-1 h3\">The Duke of Death and his Blac...</h2></a>\\n<div class=\"post-description\">\\n<a class=\"card-about\" href=\"/manga/the-duke-of-death-and-his-black-maid\"><p class=\"card-title js-card-title\">The Duke of Death and his Black Maid</p>\\n<ul class=\"card-genres m-0 p-0\">\\n<li class=\"card-genres-item\">Romance</li>\\n<li class=\"card-genres-item\">Slice of life</li>\\n</ul>\\n<ul class=\"card-numbers m-0 p-0\">\\n<li class=\"card-numbers-item\">\\n<span>Chapter: 236</span>\\n</li>\\n<li class=\"card-numbers-item\">\\n<span class=\"js-card-year\">Year: 2017</span>\\n</li>\\n<li class=\"card-numbers-item\"><span class=\"fa fa-star rating-star\"> 4.2</span></li>\\n</ul>\\n<p class=\"card-text\">The witch cursed the duke to kill all creatures he touched. His parents could not cope with such a curse, which is why they sent him to live...</p>\\n</a>\\n</div>\\n<ul class=\"post-footer list-group list-group-flush\">\\n<li class=\"list-group-item px-1 py-1 small text-center\">\\n<span class=\"far fa-clock\"></span>\\nChapter\\n<a href=\"/manga/the-duke-of-death-and-his-black-maid/chapter/222\" style=\"color: #ff4800;\" title=\"The Promised Place\">\\n222\\n</a>\\n<span>2 days ago</span>\\n</li>\\n</ul>\\n</article>,\n",
       " <article class=\"flex-item card mx-1 mx-md-2 mb-3 shadow-sm rounded\">\\n<a class=\"px-1 py-1\" href=\"/manga/nano-machine-abs3Jya\" title=\"Nano Machine\">\\n<img alt=\"Nano Machine\" class=\"img-fluid card-img-top lazy lazy-preload\" data-src=\"https://static.mangajar.com/posters/4373/is8QGwLwNo7jtcyD0wG8gbpGTtGwmGzymUsx7E2o_mini.jpg\" height=\"403\" src=\"data:image/svg+xml;base64,PHN2ZyB4bWxucz0naHR0cDovL3d3dy53My5vcmcvMjAwMC9zdmcnIHZpZXdCb3g9JzAgMCAyODAgNDAzJz48L3N2Zz4=\" title=\"Nano Machine\" width=\"280\"/>\\n</a>\\n<a href=\"/manga/nano-machine-abs3Jya\" title=\"Nano Machine\"><h2 class=\"entry-title pl-1 h3\">Nano Machine</h2></a>\\n<div class=\"post-description\">\\n<a class=\"card-about\" href=\"/manga/nano-machine-abs3Jya\"><p class=\"card-title js-card-title\">Nano Machine</p>\\n<ul class=\"card-genres m-0 p-0\">\\n<li class=\"card-genres-item\">Action</li>\\n<li class=\"card-genres-item\">Adventure</li>\\n</ul>\\n<ul class=\"card-numbers m-0 p-0\">\\n<li class=\"card-numbers-item\">\\n<span>Chapter: 109</span>\\n</li>\\n<li class=\"card-numbers-item\"><span class=\"fa fa-star rating-star\"> 4.31</span></li>\\n</ul>\\n<p class=\"card-text\">English: An orphan from the demonic cult of Chong Ye-Un was constantly attacked as well as scorned by other people throughout his life. Howe...</p>\\n</a>\\n</div>\\n<ul class=\"post-footer list-group list-group-flush\">\\n<li class=\"list-group-item px-1 py-1 small text-center\">\\n<span class=\"far fa-clock\"></span>\\nChapter\\n<a href=\"/manga/nano-machine-abs3Jya/chapter/108\" style=\"color: #ff4800;\" title=\"\">\\n108\\n</a>\\n<span>1 day ago</span>\\n</li>\\n</ul>\\n</article>]"
      ]
     },
     "execution_count": 14,
     "metadata": {},
     "output_type": "execute_result"
    }
   ],
   "source": [
    "rows = soup.find_all('article', class_='flex-item card mx-1 mx-md-2 mb-3 shadow-sm rounded')\n",
    "rows"
   ]
  },
  {
   "cell_type": "code",
   "execution_count": 8,
   "metadata": {},
   "outputs": [],
   "source": [
    "conn = psycopg2.connect(host='mangareo.postgres.database.azure.com',\n",
    "                        dbname='mangareo', user='postgres', password='mangareo123!')\n",
    "# conn = psycopg2.connect(host='localhost', dbname='mangareo', user='postgres', password='1heartless23')\n",
    "cur = conn.cursor()\n",
    "cur.execute(\n",
    "    \"\"\" ALTER TABLE t_mangas\n",
    "        ADD COLUMN genre_id INT,\n",
    "        ADD COLUMN temp_genre VARCHAR(30)\"\"\")\n",
    "conn.commit()"
   ]
  },
  {
   "cell_type": "code",
   "execution_count": 18,
   "metadata": {},
   "outputs": [],
   "source": [
    "from datetime import datetime\n",
    "import random as rand\n",
    "\n",
    "def extractManga(row):\n",
    "    title = row.find('p', class_='card-title js-card-title').text.encode('utf-8').strip()\n",
    "    desc = row.find('p', class_='card-text').text\n",
    "    genres = row.find_all('li', class_='card-genres-item')\n",
    "    genres = [genreDict[g.text]['id'] for g in genres]\n",
    "    genre_id = genres[0]\n",
    "    temp_genre = ':'.join(genres)\n",
    "    chapter = int(row.find('li', class_='card-numbers-item').find('span').text.split(':')[1].strip())\n",
    "    year = row.find('span', class_='js-card-year') and row.find('span', class_='js-card-year').text.split(':')[1].strip()\n",
    "    release_t = str(datetime(year=int(year), month=1, day=1)) if year else str(datetime.now())\n",
    "    avg_rating = float(row.find('span', class_='fa fa-star rating-star').text.strip())\n",
    "    views = rand.randint(50, 5000)\n",
    "    print(title)\n",
    "    slug = createSlug(title)\n",
    "    last_update = str(datetime.now())\n",
    "    return [title, desc, release_t, chapter, avg_rating, views, last_update, slug, genre_id, temp_genre]"
   ]
  },
  {
   "cell_type": "code",
   "execution_count": 19,
   "metadata": {},
   "outputs": [
    {
     "name": "stdout",
     "output_type": "stream",
     "text": [
      "Parallel Paradise\n",
      "Kanojo, Okarishimasu\n",
      "Spy X Family\n",
      "Kengan Omega\n",
      "Fairy Tail: 100 Years Quest\n",
      "Please Don't Bully Me, Nagatoro\n",
      "Sunset of Passion\n",
      "Mieruko-Chan\n",
      "That Time I Got Reincarnated as a Slime\n",
      "Please Go Home, Akutsu-San!\n",
      "Baki-Dou (2018)\n",
      "Toilet-Bound Hanako-kun\n",
      "Diamond no Ace Act II\n",
      "The Beginning After the End\n",
      "Mairimashita! Iruma-kun\n",
      "Tokyo Revengers\n",
      "Mercenary Enrollment\n",
      "Onepunch-Man\n",
      "Miss Kobayashi's Dragon Maid\n",
      "Solo Leveling\n",
      "My Dress-Up Darling\n",
      "The Strongest Magical Swordsman Ever Reborn As An F-Rank Adventurer.\n",
      "Kiss x Sis\n",
      "Blue Lock\n",
      "Kaiko Sareta Ankoku Heishi (30-Dai) No Slow Na Second Life\n",
      "Yancha Gal no Anjou-san\n",
      "Sss-Class Suicide Hunter\n",
      "Haite Kudasai, Takamine San\n",
      "The Strongest Brave Who Craves For Revenge, Extinguish With The Power Of Darkness\n",
      "3-gatsu no Lion\n",
      "Martial Peak\n",
      "My Wife is a Demon Queen\n",
      "The Unsuccessful Yet Academically Unparalleled Sage ~A Cheating S-Rank Sorcerer's Post-Rebirth Adventurer Log~\n",
      "Song of the Night Walkers\n",
      "Omniscient Reader’S Viewpoint\n",
      "Kaguya-Sama Wa Kokurasetai - Tensai-Tachi No Renai Zunousen\n",
      "Uragirareta S Rank Boukensha No Ore Wa, Aisuru Dorei No Kanojora To Tomoni Dorei Dake No Harem Guild O Tsukuru\n",
      "Record of Ragnarok\n",
      "The Duke of Death and his Black Maid\n",
      "Nano Machine\n"
     ]
    }
   ],
   "source": [
    "mangaRows = map(extractManga, rows)"
   ]
  },
  {
   "cell_type": "code",
   "execution_count": 21,
   "metadata": {},
   "outputs": [
    {
     "name": "stdout",
     "output_type": "stream",
     "text": [
      "0\n",
      "1\n",
      "2\n",
      "3\n",
      "4\n",
      "5\n",
      "6\n",
      "7\n",
      "8\n",
      "9\n",
      "10\n",
      "11\n",
      "12\n",
      "13\n",
      "14\n",
      "15\n",
      "16\n",
      "17\n",
      "18\n",
      "19\n",
      "20\n",
      "21\n",
      "22\n",
      "23\n",
      "24\n",
      "25\n",
      "26\n",
      "27\n",
      "28\n",
      "29\n",
      "30\n",
      "31\n",
      "32\n",
      "33\n",
      "34\n",
      "35\n",
      "36\n",
      "37\n",
      "38\n",
      "39\n"
     ]
    }
   ],
   "source": [
    "conn = psycopg2.connect(host='mangareo.postgres.database.azure.com',\n",
    "                        dbname='mangareo', user='postgres', password='mangareo123!')\n",
    "cur = conn.cursor()\n",
    "for index, r in enumerate(mangaRows):\n",
    "    print(index)\n",
    "    cur.execute(\n",
    "    \"\"\"INSERT INTO t_mangas(title, description, release_date, chapter, avg_rating, view_count, last_update, \n",
    "    slug, genre_id, temp_genre)\n",
    "        VALUES (%s, %s, %s, %s, %s, %s, %s, %s, %s, %s)\"\"\", r)\n",
    "conn.commit()"
   ]
  }
 ],
 "metadata": {
  "kernelspec": {
   "display_name": "Python 2",
   "language": "python",
   "name": "python2"
  },
  "language_info": {
   "codemirror_mode": {
    "name": "ipython",
    "version": 2
   },
   "file_extension": ".py",
   "mimetype": "text/x-python",
   "name": "python",
   "nbconvert_exporter": "python",
   "pygments_lexer": "ipython2",
   "version": "2.7.17"
  }
 },
 "nbformat": 4,
 "nbformat_minor": 2
}
